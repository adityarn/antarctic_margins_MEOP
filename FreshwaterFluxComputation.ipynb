{
 "cells": [
  {
   "cell_type": "code",
   "execution_count": 1,
   "metadata": {},
   "outputs": [
    {
     "name": "stderr",
     "output_type": "stream",
     "text": [
      "/home/km/anaconda2/envs/py35new/lib/python3.5/site-packages/xarray/conventions.py:9: FutureWarning: The pandas.tslib module is deprecated and will be removed in a future version.\n",
      "  from pandas.tslib import OutOfBoundsDatetime\n"
     ]
    }
   ],
   "source": [
    "import pandas as pd\n",
    "import numpy as np\n",
    "import matplotlib.pyplot as plt\n",
    "import gsw\n",
    "import pdb\n",
    "from mpl_toolkits.basemap import Basemap, cm\n",
    "from matplotlib.colors import LinearSegmentedColormap\n",
    "from IPython.display import Image\n",
    "import matplotlib.colors as colors\n",
    "from scipy.interpolate import griddata\n",
    "import geopandas as gpd\n",
    "from shapely.geometry import Point\n",
    "from scipy.stats import gaussian_kde\n",
    "import xarray as xr\n",
    "import numpy.ma as ma"
   ]
  },
  {
   "cell_type": "code",
   "execution_count": 2,
   "metadata": {},
   "outputs": [
    {
     "data": {
      "application/javascript": [
       "/* Put everything inside the global mpl namespace */\n",
       "window.mpl = {};\n",
       "\n",
       "\n",
       "mpl.get_websocket_type = function() {\n",
       "    if (typeof(WebSocket) !== 'undefined') {\n",
       "        return WebSocket;\n",
       "    } else if (typeof(MozWebSocket) !== 'undefined') {\n",
       "        return MozWebSocket;\n",
       "    } else {\n",
       "        alert('Your browser does not have WebSocket support.' +\n",
       "              'Please try Chrome, Safari or Firefox ≥ 6. ' +\n",
       "              'Firefox 4 and 5 are also supported but you ' +\n",
       "              'have to enable WebSockets in about:config.');\n",
       "    };\n",
       "}\n",
       "\n",
       "mpl.figure = function(figure_id, websocket, ondownload, parent_element) {\n",
       "    this.id = figure_id;\n",
       "\n",
       "    this.ws = websocket;\n",
       "\n",
       "    this.supports_binary = (this.ws.binaryType != undefined);\n",
       "\n",
       "    if (!this.supports_binary) {\n",
       "        var warnings = document.getElementById(\"mpl-warnings\");\n",
       "        if (warnings) {\n",
       "            warnings.style.display = 'block';\n",
       "            warnings.textContent = (\n",
       "                \"This browser does not support binary websocket messages. \" +\n",
       "                    \"Performance may be slow.\");\n",
       "        }\n",
       "    }\n",
       "\n",
       "    this.imageObj = new Image();\n",
       "\n",
       "    this.context = undefined;\n",
       "    this.message = undefined;\n",
       "    this.canvas = undefined;\n",
       "    this.rubberband_canvas = undefined;\n",
       "    this.rubberband_context = undefined;\n",
       "    this.format_dropdown = undefined;\n",
       "\n",
       "    this.image_mode = 'full';\n",
       "\n",
       "    this.root = $('<div/>');\n",
       "    this._root_extra_style(this.root)\n",
       "    this.root.attr('style', 'display: inline-block');\n",
       "\n",
       "    $(parent_element).append(this.root);\n",
       "\n",
       "    this._init_header(this);\n",
       "    this._init_canvas(this);\n",
       "    this._init_toolbar(this);\n",
       "\n",
       "    var fig = this;\n",
       "\n",
       "    this.waiting = false;\n",
       "\n",
       "    this.ws.onopen =  function () {\n",
       "            fig.send_message(\"supports_binary\", {value: fig.supports_binary});\n",
       "            fig.send_message(\"send_image_mode\", {});\n",
       "            if (mpl.ratio != 1) {\n",
       "                fig.send_message(\"set_dpi_ratio\", {'dpi_ratio': mpl.ratio});\n",
       "            }\n",
       "            fig.send_message(\"refresh\", {});\n",
       "        }\n",
       "\n",
       "    this.imageObj.onload = function() {\n",
       "            if (fig.image_mode == 'full') {\n",
       "                // Full images could contain transparency (where diff images\n",
       "                // almost always do), so we need to clear the canvas so that\n",
       "                // there is no ghosting.\n",
       "                fig.context.clearRect(0, 0, fig.canvas.width, fig.canvas.height);\n",
       "            }\n",
       "            fig.context.drawImage(fig.imageObj, 0, 0);\n",
       "        };\n",
       "\n",
       "    this.imageObj.onunload = function() {\n",
       "        this.ws.close();\n",
       "    }\n",
       "\n",
       "    this.ws.onmessage = this._make_on_message_function(this);\n",
       "\n",
       "    this.ondownload = ondownload;\n",
       "}\n",
       "\n",
       "mpl.figure.prototype._init_header = function() {\n",
       "    var titlebar = $(\n",
       "        '<div class=\"ui-dialog-titlebar ui-widget-header ui-corner-all ' +\n",
       "        'ui-helper-clearfix\"/>');\n",
       "    var titletext = $(\n",
       "        '<div class=\"ui-dialog-title\" style=\"width: 100%; ' +\n",
       "        'text-align: center; padding: 3px;\"/>');\n",
       "    titlebar.append(titletext)\n",
       "    this.root.append(titlebar);\n",
       "    this.header = titletext[0];\n",
       "}\n",
       "\n",
       "\n",
       "\n",
       "mpl.figure.prototype._canvas_extra_style = function(canvas_div) {\n",
       "\n",
       "}\n",
       "\n",
       "\n",
       "mpl.figure.prototype._root_extra_style = function(canvas_div) {\n",
       "\n",
       "}\n",
       "\n",
       "mpl.figure.prototype._init_canvas = function() {\n",
       "    var fig = this;\n",
       "\n",
       "    var canvas_div = $('<div/>');\n",
       "\n",
       "    canvas_div.attr('style', 'position: relative; clear: both; outline: 0');\n",
       "\n",
       "    function canvas_keyboard_event(event) {\n",
       "        return fig.key_event(event, event['data']);\n",
       "    }\n",
       "\n",
       "    canvas_div.keydown('key_press', canvas_keyboard_event);\n",
       "    canvas_div.keyup('key_release', canvas_keyboard_event);\n",
       "    this.canvas_div = canvas_div\n",
       "    this._canvas_extra_style(canvas_div)\n",
       "    this.root.append(canvas_div);\n",
       "\n",
       "    var canvas = $('<canvas/>');\n",
       "    canvas.addClass('mpl-canvas');\n",
       "    canvas.attr('style', \"left: 0; top: 0; z-index: 0; outline: 0\")\n",
       "\n",
       "    this.canvas = canvas[0];\n",
       "    this.context = canvas[0].getContext(\"2d\");\n",
       "\n",
       "    var backingStore = this.context.backingStorePixelRatio ||\n",
       "\tthis.context.webkitBackingStorePixelRatio ||\n",
       "\tthis.context.mozBackingStorePixelRatio ||\n",
       "\tthis.context.msBackingStorePixelRatio ||\n",
       "\tthis.context.oBackingStorePixelRatio ||\n",
       "\tthis.context.backingStorePixelRatio || 1;\n",
       "\n",
       "    mpl.ratio = (window.devicePixelRatio || 1) / backingStore;\n",
       "\n",
       "    var rubberband = $('<canvas/>');\n",
       "    rubberband.attr('style', \"position: absolute; left: 0; top: 0; z-index: 1;\")\n",
       "\n",
       "    var pass_mouse_events = true;\n",
       "\n",
       "    canvas_div.resizable({\n",
       "        start: function(event, ui) {\n",
       "            pass_mouse_events = false;\n",
       "        },\n",
       "        resize: function(event, ui) {\n",
       "            fig.request_resize(ui.size.width, ui.size.height);\n",
       "        },\n",
       "        stop: function(event, ui) {\n",
       "            pass_mouse_events = true;\n",
       "            fig.request_resize(ui.size.width, ui.size.height);\n",
       "        },\n",
       "    });\n",
       "\n",
       "    function mouse_event_fn(event) {\n",
       "        if (pass_mouse_events)\n",
       "            return fig.mouse_event(event, event['data']);\n",
       "    }\n",
       "\n",
       "    rubberband.mousedown('button_press', mouse_event_fn);\n",
       "    rubberband.mouseup('button_release', mouse_event_fn);\n",
       "    // Throttle sequential mouse events to 1 every 20ms.\n",
       "    rubberband.mousemove('motion_notify', mouse_event_fn);\n",
       "\n",
       "    rubberband.mouseenter('figure_enter', mouse_event_fn);\n",
       "    rubberband.mouseleave('figure_leave', mouse_event_fn);\n",
       "\n",
       "    canvas_div.on(\"wheel\", function (event) {\n",
       "        event = event.originalEvent;\n",
       "        event['data'] = 'scroll'\n",
       "        if (event.deltaY < 0) {\n",
       "            event.step = 1;\n",
       "        } else {\n",
       "            event.step = -1;\n",
       "        }\n",
       "        mouse_event_fn(event);\n",
       "    });\n",
       "\n",
       "    canvas_div.append(canvas);\n",
       "    canvas_div.append(rubberband);\n",
       "\n",
       "    this.rubberband = rubberband;\n",
       "    this.rubberband_canvas = rubberband[0];\n",
       "    this.rubberband_context = rubberband[0].getContext(\"2d\");\n",
       "    this.rubberband_context.strokeStyle = \"#000000\";\n",
       "\n",
       "    this._resize_canvas = function(width, height) {\n",
       "        // Keep the size of the canvas, canvas container, and rubber band\n",
       "        // canvas in synch.\n",
       "        canvas_div.css('width', width)\n",
       "        canvas_div.css('height', height)\n",
       "\n",
       "        canvas.attr('width', width * mpl.ratio);\n",
       "        canvas.attr('height', height * mpl.ratio);\n",
       "        canvas.attr('style', 'width: ' + width + 'px; height: ' + height + 'px;');\n",
       "\n",
       "        rubberband.attr('width', width);\n",
       "        rubberband.attr('height', height);\n",
       "    }\n",
       "\n",
       "    // Set the figure to an initial 600x600px, this will subsequently be updated\n",
       "    // upon first draw.\n",
       "    this._resize_canvas(600, 600);\n",
       "\n",
       "    // Disable right mouse context menu.\n",
       "    $(this.rubberband_canvas).bind(\"contextmenu\",function(e){\n",
       "        return false;\n",
       "    });\n",
       "\n",
       "    function set_focus () {\n",
       "        canvas.focus();\n",
       "        canvas_div.focus();\n",
       "    }\n",
       "\n",
       "    window.setTimeout(set_focus, 100);\n",
       "}\n",
       "\n",
       "mpl.figure.prototype._init_toolbar = function() {\n",
       "    var fig = this;\n",
       "\n",
       "    var nav_element = $('<div/>')\n",
       "    nav_element.attr('style', 'width: 100%');\n",
       "    this.root.append(nav_element);\n",
       "\n",
       "    // Define a callback function for later on.\n",
       "    function toolbar_event(event) {\n",
       "        return fig.toolbar_button_onclick(event['data']);\n",
       "    }\n",
       "    function toolbar_mouse_event(event) {\n",
       "        return fig.toolbar_button_onmouseover(event['data']);\n",
       "    }\n",
       "\n",
       "    for(var toolbar_ind in mpl.toolbar_items) {\n",
       "        var name = mpl.toolbar_items[toolbar_ind][0];\n",
       "        var tooltip = mpl.toolbar_items[toolbar_ind][1];\n",
       "        var image = mpl.toolbar_items[toolbar_ind][2];\n",
       "        var method_name = mpl.toolbar_items[toolbar_ind][3];\n",
       "\n",
       "        if (!name) {\n",
       "            // put a spacer in here.\n",
       "            continue;\n",
       "        }\n",
       "        var button = $('<button/>');\n",
       "        button.addClass('ui-button ui-widget ui-state-default ui-corner-all ' +\n",
       "                        'ui-button-icon-only');\n",
       "        button.attr('role', 'button');\n",
       "        button.attr('aria-disabled', 'false');\n",
       "        button.click(method_name, toolbar_event);\n",
       "        button.mouseover(tooltip, toolbar_mouse_event);\n",
       "\n",
       "        var icon_img = $('<span/>');\n",
       "        icon_img.addClass('ui-button-icon-primary ui-icon');\n",
       "        icon_img.addClass(image);\n",
       "        icon_img.addClass('ui-corner-all');\n",
       "\n",
       "        var tooltip_span = $('<span/>');\n",
       "        tooltip_span.addClass('ui-button-text');\n",
       "        tooltip_span.html(tooltip);\n",
       "\n",
       "        button.append(icon_img);\n",
       "        button.append(tooltip_span);\n",
       "\n",
       "        nav_element.append(button);\n",
       "    }\n",
       "\n",
       "    var fmt_picker_span = $('<span/>');\n",
       "\n",
       "    var fmt_picker = $('<select/>');\n",
       "    fmt_picker.addClass('mpl-toolbar-option ui-widget ui-widget-content');\n",
       "    fmt_picker_span.append(fmt_picker);\n",
       "    nav_element.append(fmt_picker_span);\n",
       "    this.format_dropdown = fmt_picker[0];\n",
       "\n",
       "    for (var ind in mpl.extensions) {\n",
       "        var fmt = mpl.extensions[ind];\n",
       "        var option = $(\n",
       "            '<option/>', {selected: fmt === mpl.default_extension}).html(fmt);\n",
       "        fmt_picker.append(option)\n",
       "    }\n",
       "\n",
       "    // Add hover states to the ui-buttons\n",
       "    $( \".ui-button\" ).hover(\n",
       "        function() { $(this).addClass(\"ui-state-hover\");},\n",
       "        function() { $(this).removeClass(\"ui-state-hover\");}\n",
       "    );\n",
       "\n",
       "    var status_bar = $('<span class=\"mpl-message\"/>');\n",
       "    nav_element.append(status_bar);\n",
       "    this.message = status_bar[0];\n",
       "}\n",
       "\n",
       "mpl.figure.prototype.request_resize = function(x_pixels, y_pixels) {\n",
       "    // Request matplotlib to resize the figure. Matplotlib will then trigger a resize in the client,\n",
       "    // which will in turn request a refresh of the image.\n",
       "    this.send_message('resize', {'width': x_pixels, 'height': y_pixels});\n",
       "}\n",
       "\n",
       "mpl.figure.prototype.send_message = function(type, properties) {\n",
       "    properties['type'] = type;\n",
       "    properties['figure_id'] = this.id;\n",
       "    this.ws.send(JSON.stringify(properties));\n",
       "}\n",
       "\n",
       "mpl.figure.prototype.send_draw_message = function() {\n",
       "    if (!this.waiting) {\n",
       "        this.waiting = true;\n",
       "        this.ws.send(JSON.stringify({type: \"draw\", figure_id: this.id}));\n",
       "    }\n",
       "}\n",
       "\n",
       "\n",
       "mpl.figure.prototype.handle_save = function(fig, msg) {\n",
       "    var format_dropdown = fig.format_dropdown;\n",
       "    var format = format_dropdown.options[format_dropdown.selectedIndex].value;\n",
       "    fig.ondownload(fig, format);\n",
       "}\n",
       "\n",
       "\n",
       "mpl.figure.prototype.handle_resize = function(fig, msg) {\n",
       "    var size = msg['size'];\n",
       "    if (size[0] != fig.canvas.width || size[1] != fig.canvas.height) {\n",
       "        fig._resize_canvas(size[0], size[1]);\n",
       "        fig.send_message(\"refresh\", {});\n",
       "    };\n",
       "}\n",
       "\n",
       "mpl.figure.prototype.handle_rubberband = function(fig, msg) {\n",
       "    var x0 = msg['x0'] / mpl.ratio;\n",
       "    var y0 = (fig.canvas.height - msg['y0']) / mpl.ratio;\n",
       "    var x1 = msg['x1'] / mpl.ratio;\n",
       "    var y1 = (fig.canvas.height - msg['y1']) / mpl.ratio;\n",
       "    x0 = Math.floor(x0) + 0.5;\n",
       "    y0 = Math.floor(y0) + 0.5;\n",
       "    x1 = Math.floor(x1) + 0.5;\n",
       "    y1 = Math.floor(y1) + 0.5;\n",
       "    var min_x = Math.min(x0, x1);\n",
       "    var min_y = Math.min(y0, y1);\n",
       "    var width = Math.abs(x1 - x0);\n",
       "    var height = Math.abs(y1 - y0);\n",
       "\n",
       "    fig.rubberband_context.clearRect(\n",
       "        0, 0, fig.canvas.width, fig.canvas.height);\n",
       "\n",
       "    fig.rubberband_context.strokeRect(min_x, min_y, width, height);\n",
       "}\n",
       "\n",
       "mpl.figure.prototype.handle_figure_label = function(fig, msg) {\n",
       "    // Updates the figure title.\n",
       "    fig.header.textContent = msg['label'];\n",
       "}\n",
       "\n",
       "mpl.figure.prototype.handle_cursor = function(fig, msg) {\n",
       "    var cursor = msg['cursor'];\n",
       "    switch(cursor)\n",
       "    {\n",
       "    case 0:\n",
       "        cursor = 'pointer';\n",
       "        break;\n",
       "    case 1:\n",
       "        cursor = 'default';\n",
       "        break;\n",
       "    case 2:\n",
       "        cursor = 'crosshair';\n",
       "        break;\n",
       "    case 3:\n",
       "        cursor = 'move';\n",
       "        break;\n",
       "    }\n",
       "    fig.rubberband_canvas.style.cursor = cursor;\n",
       "}\n",
       "\n",
       "mpl.figure.prototype.handle_message = function(fig, msg) {\n",
       "    fig.message.textContent = msg['message'];\n",
       "}\n",
       "\n",
       "mpl.figure.prototype.handle_draw = function(fig, msg) {\n",
       "    // Request the server to send over a new figure.\n",
       "    fig.send_draw_message();\n",
       "}\n",
       "\n",
       "mpl.figure.prototype.handle_image_mode = function(fig, msg) {\n",
       "    fig.image_mode = msg['mode'];\n",
       "}\n",
       "\n",
       "mpl.figure.prototype.updated_canvas_event = function() {\n",
       "    // Called whenever the canvas gets updated.\n",
       "    this.send_message(\"ack\", {});\n",
       "}\n",
       "\n",
       "// A function to construct a web socket function for onmessage handling.\n",
       "// Called in the figure constructor.\n",
       "mpl.figure.prototype._make_on_message_function = function(fig) {\n",
       "    return function socket_on_message(evt) {\n",
       "        if (evt.data instanceof Blob) {\n",
       "            /* FIXME: We get \"Resource interpreted as Image but\n",
       "             * transferred with MIME type text/plain:\" errors on\n",
       "             * Chrome.  But how to set the MIME type?  It doesn't seem\n",
       "             * to be part of the websocket stream */\n",
       "            evt.data.type = \"image/png\";\n",
       "\n",
       "            /* Free the memory for the previous frames */\n",
       "            if (fig.imageObj.src) {\n",
       "                (window.URL || window.webkitURL).revokeObjectURL(\n",
       "                    fig.imageObj.src);\n",
       "            }\n",
       "\n",
       "            fig.imageObj.src = (window.URL || window.webkitURL).createObjectURL(\n",
       "                evt.data);\n",
       "            fig.updated_canvas_event();\n",
       "            fig.waiting = false;\n",
       "            return;\n",
       "        }\n",
       "        else if (typeof evt.data === 'string' && evt.data.slice(0, 21) == \"data:image/png;base64\") {\n",
       "            fig.imageObj.src = evt.data;\n",
       "            fig.updated_canvas_event();\n",
       "            fig.waiting = false;\n",
       "            return;\n",
       "        }\n",
       "\n",
       "        var msg = JSON.parse(evt.data);\n",
       "        var msg_type = msg['type'];\n",
       "\n",
       "        // Call the  \"handle_{type}\" callback, which takes\n",
       "        // the figure and JSON message as its only arguments.\n",
       "        try {\n",
       "            var callback = fig[\"handle_\" + msg_type];\n",
       "        } catch (e) {\n",
       "            console.log(\"No handler for the '\" + msg_type + \"' message type: \", msg);\n",
       "            return;\n",
       "        }\n",
       "\n",
       "        if (callback) {\n",
       "            try {\n",
       "                // console.log(\"Handling '\" + msg_type + \"' message: \", msg);\n",
       "                callback(fig, msg);\n",
       "            } catch (e) {\n",
       "                console.log(\"Exception inside the 'handler_\" + msg_type + \"' callback:\", e, e.stack, msg);\n",
       "            }\n",
       "        }\n",
       "    };\n",
       "}\n",
       "\n",
       "// from http://stackoverflow.com/questions/1114465/getting-mouse-location-in-canvas\n",
       "mpl.findpos = function(e) {\n",
       "    //this section is from http://www.quirksmode.org/js/events_properties.html\n",
       "    var targ;\n",
       "    if (!e)\n",
       "        e = window.event;\n",
       "    if (e.target)\n",
       "        targ = e.target;\n",
       "    else if (e.srcElement)\n",
       "        targ = e.srcElement;\n",
       "    if (targ.nodeType == 3) // defeat Safari bug\n",
       "        targ = targ.parentNode;\n",
       "\n",
       "    // jQuery normalizes the pageX and pageY\n",
       "    // pageX,Y are the mouse positions relative to the document\n",
       "    // offset() returns the position of the element relative to the document\n",
       "    var x = e.pageX - $(targ).offset().left;\n",
       "    var y = e.pageY - $(targ).offset().top;\n",
       "\n",
       "    return {\"x\": x, \"y\": y};\n",
       "};\n",
       "\n",
       "/*\n",
       " * return a copy of an object with only non-object keys\n",
       " * we need this to avoid circular references\n",
       " * http://stackoverflow.com/a/24161582/3208463\n",
       " */\n",
       "function simpleKeys (original) {\n",
       "  return Object.keys(original).reduce(function (obj, key) {\n",
       "    if (typeof original[key] !== 'object')\n",
       "        obj[key] = original[key]\n",
       "    return obj;\n",
       "  }, {});\n",
       "}\n",
       "\n",
       "mpl.figure.prototype.mouse_event = function(event, name) {\n",
       "    var canvas_pos = mpl.findpos(event)\n",
       "\n",
       "    if (name === 'button_press')\n",
       "    {\n",
       "        this.canvas.focus();\n",
       "        this.canvas_div.focus();\n",
       "    }\n",
       "\n",
       "    var x = canvas_pos.x * mpl.ratio;\n",
       "    var y = canvas_pos.y * mpl.ratio;\n",
       "\n",
       "    this.send_message(name, {x: x, y: y, button: event.button,\n",
       "                             step: event.step,\n",
       "                             guiEvent: simpleKeys(event)});\n",
       "\n",
       "    /* This prevents the web browser from automatically changing to\n",
       "     * the text insertion cursor when the button is pressed.  We want\n",
       "     * to control all of the cursor setting manually through the\n",
       "     * 'cursor' event from matplotlib */\n",
       "    event.preventDefault();\n",
       "    return false;\n",
       "}\n",
       "\n",
       "mpl.figure.prototype._key_event_extra = function(event, name) {\n",
       "    // Handle any extra behaviour associated with a key event\n",
       "}\n",
       "\n",
       "mpl.figure.prototype.key_event = function(event, name) {\n",
       "\n",
       "    // Prevent repeat events\n",
       "    if (name == 'key_press')\n",
       "    {\n",
       "        if (event.which === this._key)\n",
       "            return;\n",
       "        else\n",
       "            this._key = event.which;\n",
       "    }\n",
       "    if (name == 'key_release')\n",
       "        this._key = null;\n",
       "\n",
       "    var value = '';\n",
       "    if (event.ctrlKey && event.which != 17)\n",
       "        value += \"ctrl+\";\n",
       "    if (event.altKey && event.which != 18)\n",
       "        value += \"alt+\";\n",
       "    if (event.shiftKey && event.which != 16)\n",
       "        value += \"shift+\";\n",
       "\n",
       "    value += 'k';\n",
       "    value += event.which.toString();\n",
       "\n",
       "    this._key_event_extra(event, name);\n",
       "\n",
       "    this.send_message(name, {key: value,\n",
       "                             guiEvent: simpleKeys(event)});\n",
       "    return false;\n",
       "}\n",
       "\n",
       "mpl.figure.prototype.toolbar_button_onclick = function(name) {\n",
       "    if (name == 'download') {\n",
       "        this.handle_save(this, null);\n",
       "    } else {\n",
       "        this.send_message(\"toolbar_button\", {name: name});\n",
       "    }\n",
       "};\n",
       "\n",
       "mpl.figure.prototype.toolbar_button_onmouseover = function(tooltip) {\n",
       "    this.message.textContent = tooltip;\n",
       "};\n",
       "mpl.toolbar_items = [[\"Home\", \"Reset original view\", \"fa fa-home icon-home\", \"home\"], [\"Back\", \"Back to  previous view\", \"fa fa-arrow-left icon-arrow-left\", \"back\"], [\"Forward\", \"Forward to next view\", \"fa fa-arrow-right icon-arrow-right\", \"forward\"], [\"\", \"\", \"\", \"\"], [\"Pan\", \"Pan axes with left mouse, zoom with right\", \"fa fa-arrows icon-move\", \"pan\"], [\"Zoom\", \"Zoom to rectangle\", \"fa fa-square-o icon-check-empty\", \"zoom\"], [\"\", \"\", \"\", \"\"], [\"Download\", \"Download plot\", \"fa fa-floppy-o icon-save\", \"download\"]];\n",
       "\n",
       "mpl.extensions = [\"eps\", \"jpeg\", \"pdf\", \"png\", \"ps\", \"raw\", \"svg\", \"tif\"];\n",
       "\n",
       "mpl.default_extension = \"png\";var comm_websocket_adapter = function(comm) {\n",
       "    // Create a \"websocket\"-like object which calls the given IPython comm\n",
       "    // object with the appropriate methods. Currently this is a non binary\n",
       "    // socket, so there is still some room for performance tuning.\n",
       "    var ws = {};\n",
       "\n",
       "    ws.close = function() {\n",
       "        comm.close()\n",
       "    };\n",
       "    ws.send = function(m) {\n",
       "        //console.log('sending', m);\n",
       "        comm.send(m);\n",
       "    };\n",
       "    // Register the callback with on_msg.\n",
       "    comm.on_msg(function(msg) {\n",
       "        //console.log('receiving', msg['content']['data'], msg);\n",
       "        // Pass the mpl event to the overriden (by mpl) onmessage function.\n",
       "        ws.onmessage(msg['content']['data'])\n",
       "    });\n",
       "    return ws;\n",
       "}\n",
       "\n",
       "mpl.mpl_figure_comm = function(comm, msg) {\n",
       "    // This is the function which gets called when the mpl process\n",
       "    // starts-up an IPython Comm through the \"matplotlib\" channel.\n",
       "\n",
       "    var id = msg.content.data.id;\n",
       "    // Get hold of the div created by the display call when the Comm\n",
       "    // socket was opened in Python.\n",
       "    var element = $(\"#\" + id);\n",
       "    var ws_proxy = comm_websocket_adapter(comm)\n",
       "\n",
       "    function ondownload(figure, format) {\n",
       "        window.open(figure.imageObj.src);\n",
       "    }\n",
       "\n",
       "    var fig = new mpl.figure(id, ws_proxy,\n",
       "                           ondownload,\n",
       "                           element.get(0));\n",
       "\n",
       "    // Call onopen now - mpl needs it, as it is assuming we've passed it a real\n",
       "    // web socket which is closed, not our websocket->open comm proxy.\n",
       "    ws_proxy.onopen();\n",
       "\n",
       "    fig.parent_element = element.get(0);\n",
       "    fig.cell_info = mpl.find_output_cell(\"<div id='\" + id + \"'></div>\");\n",
       "    if (!fig.cell_info) {\n",
       "        console.error(\"Failed to find cell for figure\", id, fig);\n",
       "        return;\n",
       "    }\n",
       "\n",
       "    var output_index = fig.cell_info[2]\n",
       "    var cell = fig.cell_info[0];\n",
       "\n",
       "};\n",
       "\n",
       "mpl.figure.prototype.handle_close = function(fig, msg) {\n",
       "    var width = fig.canvas.width/mpl.ratio\n",
       "    fig.root.unbind('remove')\n",
       "\n",
       "    // Update the output cell to use the data from the current canvas.\n",
       "    fig.push_to_output();\n",
       "    var dataURL = fig.canvas.toDataURL();\n",
       "    // Re-enable the keyboard manager in IPython - without this line, in FF,\n",
       "    // the notebook keyboard shortcuts fail.\n",
       "    IPython.keyboard_manager.enable()\n",
       "    $(fig.parent_element).html('<img src=\"' + dataURL + '\" width=\"' + width + '\">');\n",
       "    fig.close_ws(fig, msg);\n",
       "}\n",
       "\n",
       "mpl.figure.prototype.close_ws = function(fig, msg){\n",
       "    fig.send_message('closing', msg);\n",
       "    // fig.ws.close()\n",
       "}\n",
       "\n",
       "mpl.figure.prototype.push_to_output = function(remove_interactive) {\n",
       "    // Turn the data on the canvas into data in the output cell.\n",
       "    var width = this.canvas.width/mpl.ratio\n",
       "    var dataURL = this.canvas.toDataURL();\n",
       "    this.cell_info[1]['text/html'] = '<img src=\"' + dataURL + '\" width=\"' + width + '\">';\n",
       "}\n",
       "\n",
       "mpl.figure.prototype.updated_canvas_event = function() {\n",
       "    // Tell IPython that the notebook contents must change.\n",
       "    IPython.notebook.set_dirty(true);\n",
       "    this.send_message(\"ack\", {});\n",
       "    var fig = this;\n",
       "    // Wait a second, then push the new image to the DOM so\n",
       "    // that it is saved nicely (might be nice to debounce this).\n",
       "    setTimeout(function () { fig.push_to_output() }, 1000);\n",
       "}\n",
       "\n",
       "mpl.figure.prototype._init_toolbar = function() {\n",
       "    var fig = this;\n",
       "\n",
       "    var nav_element = $('<div/>')\n",
       "    nav_element.attr('style', 'width: 100%');\n",
       "    this.root.append(nav_element);\n",
       "\n",
       "    // Define a callback function for later on.\n",
       "    function toolbar_event(event) {\n",
       "        return fig.toolbar_button_onclick(event['data']);\n",
       "    }\n",
       "    function toolbar_mouse_event(event) {\n",
       "        return fig.toolbar_button_onmouseover(event['data']);\n",
       "    }\n",
       "\n",
       "    for(var toolbar_ind in mpl.toolbar_items){\n",
       "        var name = mpl.toolbar_items[toolbar_ind][0];\n",
       "        var tooltip = mpl.toolbar_items[toolbar_ind][1];\n",
       "        var image = mpl.toolbar_items[toolbar_ind][2];\n",
       "        var method_name = mpl.toolbar_items[toolbar_ind][3];\n",
       "\n",
       "        if (!name) { continue; };\n",
       "\n",
       "        var button = $('<button class=\"btn btn-default\" href=\"#\" title=\"' + name + '\"><i class=\"fa ' + image + ' fa-lg\"></i></button>');\n",
       "        button.click(method_name, toolbar_event);\n",
       "        button.mouseover(tooltip, toolbar_mouse_event);\n",
       "        nav_element.append(button);\n",
       "    }\n",
       "\n",
       "    // Add the status bar.\n",
       "    var status_bar = $('<span class=\"mpl-message\" style=\"text-align:right; float: right;\"/>');\n",
       "    nav_element.append(status_bar);\n",
       "    this.message = status_bar[0];\n",
       "\n",
       "    // Add the close button to the window.\n",
       "    var buttongrp = $('<div class=\"btn-group inline pull-right\"></div>');\n",
       "    var button = $('<button class=\"btn btn-mini btn-primary\" href=\"#\" title=\"Stop Interaction\"><i class=\"fa fa-power-off icon-remove icon-large\"></i></button>');\n",
       "    button.click(function (evt) { fig.handle_close(fig, {}); } );\n",
       "    button.mouseover('Stop Interaction', toolbar_mouse_event);\n",
       "    buttongrp.append(button);\n",
       "    var titlebar = this.root.find($('.ui-dialog-titlebar'));\n",
       "    titlebar.prepend(buttongrp);\n",
       "}\n",
       "\n",
       "mpl.figure.prototype._root_extra_style = function(el){\n",
       "    var fig = this\n",
       "    el.on(\"remove\", function(){\n",
       "\tfig.close_ws(fig, {});\n",
       "    });\n",
       "}\n",
       "\n",
       "mpl.figure.prototype._canvas_extra_style = function(el){\n",
       "    // this is important to make the div 'focusable\n",
       "    el.attr('tabindex', 0)\n",
       "    // reach out to IPython and tell the keyboard manager to turn it's self\n",
       "    // off when our div gets focus\n",
       "\n",
       "    // location in version 3\n",
       "    if (IPython.notebook.keyboard_manager) {\n",
       "        IPython.notebook.keyboard_manager.register_events(el);\n",
       "    }\n",
       "    else {\n",
       "        // location in version 2\n",
       "        IPython.keyboard_manager.register_events(el);\n",
       "    }\n",
       "\n",
       "}\n",
       "\n",
       "mpl.figure.prototype._key_event_extra = function(event, name) {\n",
       "    var manager = IPython.notebook.keyboard_manager;\n",
       "    if (!manager)\n",
       "        manager = IPython.keyboard_manager;\n",
       "\n",
       "    // Check for shift+enter\n",
       "    if (event.shiftKey && event.which == 13) {\n",
       "        this.canvas_div.blur();\n",
       "        // select the cell after this one\n",
       "        var index = IPython.notebook.find_cell_index(this.cell_info[0]);\n",
       "        IPython.notebook.select(index + 1);\n",
       "    }\n",
       "}\n",
       "\n",
       "mpl.figure.prototype.handle_save = function(fig, msg) {\n",
       "    fig.ondownload(fig, null);\n",
       "}\n",
       "\n",
       "\n",
       "mpl.find_output_cell = function(html_output) {\n",
       "    // Return the cell and output element which can be found *uniquely* in the notebook.\n",
       "    // Note - this is a bit hacky, but it is done because the \"notebook_saving.Notebook\"\n",
       "    // IPython event is triggered only after the cells have been serialised, which for\n",
       "    // our purposes (turning an active figure into a static one), is too late.\n",
       "    var cells = IPython.notebook.get_cells();\n",
       "    var ncells = cells.length;\n",
       "    for (var i=0; i<ncells; i++) {\n",
       "        var cell = cells[i];\n",
       "        if (cell.cell_type === 'code'){\n",
       "            for (var j=0; j<cell.output_area.outputs.length; j++) {\n",
       "                var data = cell.output_area.outputs[j];\n",
       "                if (data.data) {\n",
       "                    // IPython >= 3 moved mimebundle to data attribute of output\n",
       "                    data = data.data;\n",
       "                }\n",
       "                if (data['text/html'] == html_output) {\n",
       "                    return [cell, data, j];\n",
       "                }\n",
       "            }\n",
       "        }\n",
       "    }\n",
       "}\n",
       "\n",
       "// Register the function which deals with the matplotlib target/channel.\n",
       "// The kernel may be null if the page has been refreshed.\n",
       "if (IPython.notebook.kernel != null) {\n",
       "    IPython.notebook.kernel.comm_manager.register_target('matplotlib', mpl.mpl_figure_comm);\n",
       "}\n"
      ],
      "text/plain": [
       "<IPython.core.display.Javascript object>"
      ]
     },
     "metadata": {},
     "output_type": "display_data"
    },
    {
     "data": {
      "text/html": [
       "<img src=\"data:image/png;base64,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\" width=\"200\">"
      ],
      "text/plain": [
       "<IPython.core.display.HTML object>"
      ]
     },
     "metadata": {},
     "output_type": "display_data"
    }
   ],
   "source": [
    "%matplotlib notebook\n",
    "plt.figure(figsize=(2,2))\n",
    "plt.plot()\n",
    "plt.show()"
   ]
  },
  {
   "cell_type": "code",
   "execution_count": 3,
   "metadata": {},
   "outputs": [
    {
     "data": {
      "image/png": "[encoded data removed]",
      "text/plain": [
       "<matplotlib.figure.Figure at 0x7f2b59985c18>"
      ]
     },
     "metadata": {},
     "output_type": "display_data"
    }
   ],
   "source": [
    "%matplotlib inline\n",
    "plt.figure(figsize=(2,2))\n",
    "plt.plot()\n",
    "plt.show()"
   ]
  },
  {
   "cell_type": "code",
   "execution_count": 4,
   "metadata": {
    "collapsed": true
   },
   "outputs": [],
   "source": [
    "dfmg = pd.read_csv(\"dfmg_glDist.csv\")\n",
    "del dfmg['Unnamed: 0']\n",
    "dfmg.loc[:,'JULD'] = pd.to_datetime(dfmg.loc[:, 'JULD'])"
   ]
  },
  {
   "cell_type": "code",
   "execution_count": 9,
   "metadata": {
    "collapsed": true
   },
   "outputs": [],
   "source": [
    "import plot_stations as pltStn\n",
    "import importlib\n",
    "importlib.reload(pltStn)\n",
    "\n",
    "import plot_bathy as pltBathy\n",
    "import importlib\n",
    "importlib.reload(pltBathy)\n",
    "\n",
    "import find_depth_averages_v2 as averageProfile\n",
    "import plot_var_contours_with_distance as plt2dDepthVsDist\n",
    "\n",
    "import plot_station_bot_sal as pbs\n",
    "\n",
    "import plot_topView_contourf as topView\n",
    "importlib.reload(topView)\n",
    "\n",
    "import plot_monthly_count as monthCount\n",
    "importlib.reload(monthCount)\n",
    "\n",
    "import plot_theta_sal\n",
    "importlib.reload(plot_theta_sal)\n",
    "\n",
    "import plot_year_vs_salAverages as pltSalYearAvg\n",
    "importlib.reload(pltSalYearAvg)\n",
    "\n",
    "import plot_profiles_vs_dist as profDist\n",
    "\n",
    "import plot_Profiles_vs_time as profile2dTime"
   ]
  },
  {
   "cell_type": "code",
   "execution_count": 6,
   "metadata": {},
   "outputs": [
    {
     "name": "stderr",
     "output_type": "stream",
     "text": [
      "/home/km/anaconda2/envs/py35new/lib/python3.5/site-packages/pandas/core/computation/expressions.py:183: UserWarning: evaluating in Python space because the '+' operator is not supported by numexpr for the bool dtype, use '|' instead\n",
      "  unsupported[op_str]))\n"
     ]
    }
   ],
   "source": [
    "WSO_source = (dfmg['CTEMP'] <= -1.7 ) & (dfmg[\"PSAL_ADJUSTED\"] > 34.5)\n",
    "WSO_prod = (dfmg['CTEMP'] <= -0.8) & (dfmg['CTEMP'] >= -1.2) & (dfmg[\"PSAL_ADJUSTED\"] > 34.5)\n",
    "\n",
    "box1 = (dfmg[\"LATITUDE\"] > -80) & (dfmg[\"LATITUDE\"] < -75) & (dfmg[\"LONGITUDE\"] > -60) & (dfmg[\"LONGITUDE\"] < -40)\n",
    "box2 = (dfmg[\"LATITUDE\"] > -80) & (dfmg[\"LATITUDE\"] < -75) & (dfmg[\"LONGITUDE\"] > -40) & (dfmg[\"LONGITUDE\"] < -20)\n",
    "box3 = (dfmg[\"LATITUDE\"] > -75) & (dfmg[\"LATITUDE\"] < -70) & (dfmg[\"LONGITUDE\"] > -60) & (dfmg[\"LONGITUDE\"] < -40)\n",
    "box4 = (dfmg[\"LATITUDE\"] > -75) & (dfmg[\"LATITUDE\"] < -70) & (dfmg[\"LONGITUDE\"] > -40) & (dfmg[\"LONGITUDE\"] < -20)\n",
    "\n",
    "box5 = (dfmg[\"LATITUDE\"] > -80) & (dfmg[\"LATITUDE\"] < -75) & (dfmg[\"LONGITUDE\"] > 160) & (dfmg[\"LONGITUDE\"] < 180)\n",
    "box6 = (dfmg[\"LATITUDE\"] > -80) & (dfmg[\"LATITUDE\"] < -75) & (dfmg[\"LONGITUDE\"] > -180) & (dfmg[\"LONGITUDE\"] < -160)\n",
    "box7 = (dfmg[\"LATITUDE\"] > -75) & (dfmg[\"LATITUDE\"] < -70) & (dfmg[\"LONGITUDE\"] > 160) & (dfmg[\"LONGITUDE\"] < 180)\n",
    "box8 = (dfmg[\"LATITUDE\"] > -75) & (dfmg[\"LATITUDE\"] < -70) & (dfmg[\"LONGITUDE\"] > -180) & (dfmg[\"LONGITUDE\"] < -160)\n",
    "\n",
    "box9 = (dfmg[\"LATITUDE\"] > -70) & (dfmg[\"LATITUDE\"] < -65) & (dfmg[\"LONGITUDE\"] > 60) & (dfmg[\"LONGITUDE\"] < 70)\n",
    "box10 = (dfmg[\"LATITUDE\"] > -70) & (dfmg[\"LATITUDE\"] < -65) & (dfmg[\"LONGITUDE\"] > 70) & (dfmg[\"LONGITUDE\"] < 80)\n",
    "\n",
    "Weddell = (box1 | box2 | box3| box4)\n",
    "Ross = (box5 | box6 | box7 | box8)\n",
    "Prydz = (box9 | box10)\n",
    "EBS = (dfmg['LONGITUDE'] > -80) & (dfmg['LONGITUDE'] < -60) #Eastern Bellingshausen Sea\n",
    "WBS = (dfmg['LONGITUDE'] > -100) & (dfmg['LONGITUDE'] < -80) # Western Bellingshausen Sea\n",
    "\n",
    "dfmg['mab'] = abs(dfmg['ECHODEPTH'] - dfmg['DEPTH'])\n",
    "lt60 = abs(dfmg['mab']) < 60\n",
    "lt100 = abs(dfmg['mab']) < 100\n",
    "lt200 = abs(dfmg['mab']) < 200\n",
    "\n",
    "lowSurfSal = (dfmg['PSAL_ADJUSTED'] < 33.5) & (dfmg['DEPTH'] > -100)\n",
    "cdw = (dfmg['PSAL_ADJUSTED'] > 34.6) & (dfmg['CTEMP'] > 0)\n",
    "maxTemp = (dfmg.groupby('PROFILE_NUMBER')['CTEMP'].transform(max) == dfmg['CTEMP'])\n",
    "gline_le_50km = dfmg['DIST_GLINE'] <= 50\n",
    "gline_le_100km = dfmg['DIST_GLINE'] <= 100\n",
    "gline_le_150km = dfmg['DIST_GLINE'] <= 150\n",
    "gline_le_25km = dfmg['DIST_GLINE'] <= 25\n",
    "gline_le_75km = dfmg['DIST_GLINE'] <= 75\n",
    "\n",
    "mask_theta_sal_not_nan = ~(dfmg.loc[:, 'CTEMP'].isnull() + dfmg.loc[:, 'PSAL_ADJUSTED'].isnull())\n",
    "\n",
    "deep_mask = dfmg['deep_flag'] == 1.0\n",
    "deep_mask = deep_mask + (dfmg['ECHODEPTH'] < 100)"
   ]
  },
  {
   "cell_type": "code",
   "execution_count": 7,
   "metadata": {
    "collapsed": true
   },
   "outputs": [],
   "source": [
    "year_mask = []\n",
    "years = np.sort(dfmg['JULD'].dt.year.unique())\n",
    "for i in range(len(years)):\n",
    "    mask = dfmg['JULD'].dt.year == years[i]\n",
    "    year_mask.append(mask)\n",
    "month_mask = []\n",
    "for i in range(12):\n",
    "    mask = dfmg['JULD'].dt.month == i+1\n",
    "    month_mask.append(mask)\n",
    "    \n",
    "month_names = ['Jan', 'Feb', 'Mar', 'Apr', 'May', 'Jun', 'Jul', 'Aug', 'Sep', 'Oct', 'Nov', 'Dec']"
   ]
  },
  {
   "cell_type": "code",
   "execution_count": 8,
   "metadata": {
    "collapsed": true
   },
   "outputs": [],
   "source": [
    "def sel_months(df, months=[1]):\n",
    "    return df['JULD'].dt.month.isin(months)\n",
    "\n",
    "def get_mask_from_prof_mask(df, profmask):\n",
    "    profs = dfmg.loc[profmask, 'PROFILE_NUMBER'].unique()\n",
    "    mask = dfmg.loc[:, 'PROFILE_NUMBER'].isin(profs)\n",
    "    \n",
    "    return mask\n",
    "\n",
    "def play_beep():\n",
    "    import os\n",
    "    duration = 1  # second\n",
    "    freq = 440  # Hz\n",
    "    os.system('play --no-show-progress --null --channels 1 synth %s sine %f' % (duration, freq))"
   ]
  },
  {
   "cell_type": "code",
   "execution_count": 10,
   "metadata": {},
   "outputs": [
    {
     "data": {
      "text/plain": [
       "<module 'plot_Profiles_vs_time' from '/media/data/Datasets/MEOP/MEOP-CTD_2016-07-12/UK/myScripts/plot_Profiles_vs_time.py'>"
      ]
     },
     "execution_count": 10,
     "metadata": {},
     "output_type": "execute_result"
    }
   ],
   "source": [
    "importlib.reload(profile2dTime)"
   ]
  },
  {
   "cell_type": "code",
   "execution_count": 12,
   "metadata": {
    "collapsed": true
   },
   "outputs": [],
   "source": [
    "salrange = list(np.arange(33.5, 35.05, 0.01))\n",
    "thetarange = list(np.arange(-3, 1, 0.01))"
   ]
  },
  {
   "cell_type": "code",
   "execution_count": 13,
   "metadata": {
    "collapsed": true
   },
   "outputs": [],
   "source": [
    "f_h_2, depth_bins = profile2dTime.plot_sal_contours_with_time(dfmg[Ross&gline_le_75km], \n",
    "                                          years=[2010, 2011, 2012, 2014], depth_max=-650, zbin=20, \n",
    "                                          levs=salrange, save=False, type=1, wd=4*4, plot=False)"
   ]
  },
  {
   "cell_type": "code",
   "execution_count": 9,
   "metadata": {
    "collapsed": true
   },
   "outputs": [],
   "source": [
    "evap_total = []\n",
    "evap_start_year, evap_end_year = 2007, 2015\n",
    "for i in range(evap_start_year, evap_end_year+1, 1):\n",
    "    evap_total.append(xr.open_dataset(\"/media/data/Datasets/AirSeaFluxes/WHOIevap/evapr_oaflux_\"+str(i)+\".nc\"))"
   ]
  },
  {
   "cell_type": "code",
   "execution_count": 7,
   "metadata": {
    "collapsed": true
   },
   "outputs": [],
   "source": [
    "evapmerged = xr.open_dataset(\"/media/data/Datasets/AirSeaFluxes/WHOIevap/evapr_merged_2007_2015.nc\")"
   ]
  },
  {
   "cell_type": "code",
   "execution_count": 359,
   "metadata": {},
   "outputs": [
    {
     "name": "stdout",
     "output_type": "stream",
     "text": [
      "9.2143672569\n",
      "8.39562964846\n",
      "9.08289550242\n",
      "8.51589206061\n",
      "8.68005435217\n",
      "8.51490447049\n",
      "8.39843554442\n",
      "8.40313366654\n",
      "8.34684594048\n",
      "9.00940957885\n",
      "9.04527479672\n",
      "9.31313865379\n"
     ]
    }
   ],
   "source": [
    "evap_monthly = np.zeros(12)\n",
    "for i in range(12):\n",
    "    evap_monthly[i] = np.nanmean(evap_total[0].evapr.isel(time=i).values) * float(monthrange(2004, i+1)[1])/365.25\n",
    "    print(np.nanmean(evap_total[0].evapr.isel(time=i).values)  * float(monthrange(2004, i+1)[1])/365.25)"
   ]
  },
  {
   "cell_type": "code",
   "execution_count": 14,
   "metadata": {},
   "outputs": [
    {
     "data": {
      "text/plain": [
       "False"
      ]
     },
     "execution_count": 14,
     "metadata": {},
     "output_type": "execute_result"
    }
   ],
   "source": [
    "scalar = [1.4]\n",
    "np.isscalar(scalar)"
   ]
  },
  {
   "cell_type": "code",
   "execution_count": 16,
   "metadata": {
    "collapsed": true
   },
   "outputs": [],
   "source": [
    "precip = xr.open_dataset(\"/media/data/Datasets/AirSeaFluxes/GPCPprecip/precip.mon.mean.nc\")\n",
    "precip_error = xr.open_dataset(\"/media/data/Datasets/AirSeaFluxes/GPCPprecip/precip.mon.mean.error.nc\")"
   ]
  },
  {
   "cell_type": "code",
   "execution_count": 59,
   "metadata": {
    "collapsed": true
   },
   "outputs": [],
   "source": [
    "yearmask = (pd.Series(precip.time).dt.year >= 2007) & (pd.Series(precip.time).dt.year <= 2015)"
   ]
  },
  {
   "cell_type": "code",
   "execution_count": 60,
   "metadata": {},
   "outputs": [
    {
     "data": {
      "text/plain": [
       "<xarray.DataArray 'time' (time: 469)>\n",
       "array(['1979-01-01T00:00:00.000000000', '1979-02-01T00:00:00.000000000',\n",
       "       '1979-03-01T00:00:00.000000000', '1979-04-01T00:00:00.000000000',\n",
       "       '1979-05-01T00:00:00.000000000', '1979-06-01T00:00:00.000000000',\n",
       "       '1979-07-01T00:00:00.000000000', '1979-08-01T00:00:00.000000000',\n",
       "       '1979-09-01T00:00:00.000000000', '1979-10-01T00:00:00.000000000',\n",
       "       '1979-11-01T00:00:00.000000000', '1979-12-01T00:00:00.000000000',\n",
       "       '1980-01-01T00:00:00.000000000', '1980-02-01T00:00:00.000000000',\n",
       "       '1980-03-01T00:00:00.000000000', '1980-04-01T00:00:00.000000000',\n",
       "       '1980-05-01T00:00:00.000000000', '1980-06-01T00:00:00.000000000',\n",
       "       '1980-07-01T00:00:00.000000000', '1980-08-01T00:00:00.000000000',\n",
       "       '1980-09-01T00:00:00.000000000', '1980-10-01T00:00:00.000000000',\n",
       "       '1980-11-01T00:00:00.000000000', '1980-12-01T00:00:00.000000000',\n",
       "       '1981-01-01T00:00:00.000000000', '1981-02-01T00:00:00.000000000',\n",
       "       '1981-03-01T00:00:00.000000000', '1981-04-01T00:00:00.000000000',\n",
       "       '1981-05-01T00:00:00.000000000', '1981-06-01T00:00:00.000000000',\n",
       "       '1981-07-01T00:00:00.000000000', '1981-08-01T00:00:00.000000000',\n",
       "       '1981-09-01T00:00:00.000000000', '1981-10-01T00:00:00.000000000',\n",
       "       '1981-11-01T00:00:00.000000000', '1981-12-01T00:00:00.000000000',\n",
       "       '1982-01-01T00:00:00.000000000', '1982-02-01T00:00:00.000000000',\n",
       "       '1982-03-01T00:00:00.000000000', '1982-04-01T00:00:00.000000000',\n",
       "       '1982-05-01T00:00:00.000000000', '1982-06-01T00:00:00.000000000',\n",
       "       '1982-07-01T00:00:00.000000000', '1982-08-01T00:00:00.000000000',\n",
       "       '1982-09-01T00:00:00.000000000', '1982-10-01T00:00:00.000000000',\n",
       "       '1982-11-01T00:00:00.000000000', '1982-12-01T00:00:00.000000000',\n",
       "       '1983-01-01T00:00:00.000000000', '1983-02-01T00:00:00.000000000',\n",
       "       '1983-03-01T00:00:00.000000000', '1983-04-01T00:00:00.000000000',\n",
       "       '1983-05-01T00:00:00.000000000', '1983-06-01T00:00:00.000000000',\n",
       "       '1983-07-01T00:00:00.000000000', '1983-08-01T00:00:00.000000000',\n",
       "       '1983-09-01T00:00:00.000000000', '1983-10-01T00:00:00.000000000',\n",
       "       '1983-11-01T00:00:00.000000000', '1983-12-01T00:00:00.000000000',\n",
       "       '1984-01-01T00:00:00.000000000', '1984-02-01T00:00:00.000000000',\n",
       "       '1984-03-01T00:00:00.000000000', '1984-04-01T00:00:00.000000000',\n",
       "       '1984-05-01T00:00:00.000000000', '1984-06-01T00:00:00.000000000',\n",
       "       '1984-07-01T00:00:00.000000000', '1984-08-01T00:00:00.000000000',\n",
       "       '1984-09-01T00:00:00.000000000', '1984-10-01T00:00:00.000000000',\n",
       "       '1984-11-01T00:00:00.000000000', '1984-12-01T00:00:00.000000000',\n",
       "       '1985-01-01T00:00:00.000000000', '1985-02-01T00:00:00.000000000',\n",
       "       '1985-03-01T00:00:00.000000000', '1985-04-01T00:00:00.000000000',\n",
       "       '1985-05-01T00:00:00.000000000', '1985-06-01T00:00:00.000000000',\n",
       "       '1985-07-01T00:00:00.000000000', '1985-08-01T00:00:00.000000000',\n",
       "       '1985-09-01T00:00:00.000000000', '1985-10-01T00:00:00.000000000',\n",
       "       '1985-11-01T00:00:00.000000000', '1985-12-01T00:00:00.000000000',\n",
       "       '1986-01-01T00:00:00.000000000', '1986-02-01T00:00:00.000000000',\n",
       "       '1986-03-01T00:00:00.000000000', '1986-04-01T00:00:00.000000000',\n",
       "       '1986-05-01T00:00:00.000000000', '1986-06-01T00:00:00.000000000',\n",
       "       '1986-07-01T00:00:00.000000000', '1986-08-01T00:00:00.000000000',\n",
       "       '1986-09-01T00:00:00.000000000', '1986-10-01T00:00:00.000000000',\n",
       "       '1986-11-01T00:00:00.000000000', '1986-12-01T00:00:00.000000000',\n",
       "       '1987-01-01T00:00:00.000000000', '1987-02-01T00:00:00.000000000',\n",
       "       '1987-03-01T00:00:00.000000000', '1987-04-01T00:00:00.000000000',\n",
       "       '1987-05-01T00:00:00.000000000', '1987-06-01T00:00:00.000000000',\n",
       "       '1987-07-01T00:00:00.000000000', '1987-08-01T00:00:00.000000000',\n",
       "       '1987-09-01T00:00:00.000000000', '1987-10-01T00:00:00.000000000',\n",
       "       '1987-11-01T00:00:00.000000000', '1987-12-01T00:00:00.000000000',\n",
       "       '1988-01-01T00:00:00.000000000', '1988-02-01T00:00:00.000000000',\n",
       "       '1988-03-01T00:00:00.000000000', '1988-04-01T00:00:00.000000000',\n",
       "       '1988-05-01T00:00:00.000000000', '1988-06-01T00:00:00.000000000',\n",
       "       '1988-07-01T00:00:00.000000000', '1988-08-01T00:00:00.000000000',\n",
       "       '1988-09-01T00:00:00.000000000', '1988-10-01T00:00:00.000000000',\n",
       "       '1988-11-01T00:00:00.000000000', '1988-12-01T00:00:00.000000000',\n",
       "       '1989-01-01T00:00:00.000000000', '1989-02-01T00:00:00.000000000',\n",
       "       '1989-03-01T00:00:00.000000000', '1989-04-01T00:00:00.000000000',\n",
       "       '1989-05-01T00:00:00.000000000', '1989-06-01T00:00:00.000000000',\n",
       "       '1989-07-01T00:00:00.000000000', '1989-08-01T00:00:00.000000000',\n",
       "       '1989-09-01T00:00:00.000000000', '1989-10-01T00:00:00.000000000',\n",
       "       '1989-11-01T00:00:00.000000000', '1989-12-01T00:00:00.000000000',\n",
       "       '1990-01-01T00:00:00.000000000', '1990-02-01T00:00:00.000000000',\n",
       "       '1990-03-01T00:00:00.000000000', '1990-04-01T00:00:00.000000000',\n",
       "       '1990-05-01T00:00:00.000000000', '1990-06-01T00:00:00.000000000',\n",
       "       '1990-07-01T00:00:00.000000000', '1990-08-01T00:00:00.000000000',\n",
       "       '1990-09-01T00:00:00.000000000', '1990-10-01T00:00:00.000000000',\n",
       "       '1990-11-01T00:00:00.000000000', '1990-12-01T00:00:00.000000000',\n",
       "       '1991-01-01T00:00:00.000000000', '1991-02-01T00:00:00.000000000',\n",
       "       '1991-03-01T00:00:00.000000000', '1991-04-01T00:00:00.000000000',\n",
       "       '1991-05-01T00:00:00.000000000', '1991-06-01T00:00:00.000000000',\n",
       "       '1991-07-01T00:00:00.000000000', '1991-08-01T00:00:00.000000000',\n",
       "       '1991-09-01T00:00:00.000000000', '1991-10-01T00:00:00.000000000',\n",
       "       '1991-11-01T00:00:00.000000000', '1991-12-01T00:00:00.000000000',\n",
       "       '1992-01-01T00:00:00.000000000', '1992-02-01T00:00:00.000000000',\n",
       "       '1992-03-01T00:00:00.000000000', '1992-04-01T00:00:00.000000000',\n",
       "       '1992-05-01T00:00:00.000000000', '1992-06-01T00:00:00.000000000',\n",
       "       '1992-07-01T00:00:00.000000000', '1992-08-01T00:00:00.000000000',\n",
       "       '1992-09-01T00:00:00.000000000', '1992-10-01T00:00:00.000000000',\n",
       "       '1992-11-01T00:00:00.000000000', '1992-12-01T00:00:00.000000000',\n",
       "       '1993-01-01T00:00:00.000000000', '1993-02-01T00:00:00.000000000',\n",
       "       '1993-03-01T00:00:00.000000000', '1993-04-01T00:00:00.000000000',\n",
       "       '1993-05-01T00:00:00.000000000', '1993-06-01T00:00:00.000000000',\n",
       "       '1993-07-01T00:00:00.000000000', '1993-08-01T00:00:00.000000000',\n",
       "       '1993-09-01T00:00:00.000000000', '1993-10-01T00:00:00.000000000',\n",
       "       '1993-11-01T00:00:00.000000000', '1993-12-01T00:00:00.000000000',\n",
       "       '1994-01-01T00:00:00.000000000', '1994-02-01T00:00:00.000000000',\n",
       "       '1994-03-01T00:00:00.000000000', '1994-04-01T00:00:00.000000000',\n",
       "       '1994-05-01T00:00:00.000000000', '1994-06-01T00:00:00.000000000',\n",
       "       '1994-07-01T00:00:00.000000000', '1994-08-01T00:00:00.000000000',\n",
       "       '1994-09-01T00:00:00.000000000', '1994-10-01T00:00:00.000000000',\n",
       "       '1994-11-01T00:00:00.000000000', '1994-12-01T00:00:00.000000000',\n",
       "       '1995-01-01T00:00:00.000000000', '1995-02-01T00:00:00.000000000',\n",
       "       '1995-03-01T00:00:00.000000000', '1995-04-01T00:00:00.000000000',\n",
       "       '1995-05-01T00:00:00.000000000', '1995-06-01T00:00:00.000000000',\n",
       "       '1995-07-01T00:00:00.000000000', '1995-08-01T00:00:00.000000000',\n",
       "       '1995-09-01T00:00:00.000000000', '1995-10-01T00:00:00.000000000',\n",
       "       '1995-11-01T00:00:00.000000000', '1995-12-01T00:00:00.000000000',\n",
       "       '1996-01-01T00:00:00.000000000', '1996-02-01T00:00:00.000000000',\n",
       "       '1996-03-01T00:00:00.000000000', '1996-04-01T00:00:00.000000000',\n",
       "       '1996-05-01T00:00:00.000000000', '1996-06-01T00:00:00.000000000',\n",
       "       '1996-07-01T00:00:00.000000000', '1996-08-01T00:00:00.000000000',\n",
       "       '1996-09-01T00:00:00.000000000', '1996-10-01T00:00:00.000000000',\n",
       "       '1996-11-01T00:00:00.000000000', '1996-12-01T00:00:00.000000000',\n",
       "       '1997-01-01T00:00:00.000000000', '1997-02-01T00:00:00.000000000',\n",
       "       '1997-03-01T00:00:00.000000000', '1997-04-01T00:00:00.000000000',\n",
       "       '1997-05-01T00:00:00.000000000', '1997-06-01T00:00:00.000000000',\n",
       "       '1997-07-01T00:00:00.000000000', '1997-08-01T00:00:00.000000000',\n",
       "       '1997-09-01T00:00:00.000000000', '1997-10-01T00:00:00.000000000',\n",
       "       '1997-11-01T00:00:00.000000000', '1997-12-01T00:00:00.000000000',\n",
       "       '1998-01-01T00:00:00.000000000', '1998-02-01T00:00:00.000000000',\n",
       "       '1998-03-01T00:00:00.000000000', '1998-04-01T00:00:00.000000000',\n",
       "       '1998-05-01T00:00:00.000000000', '1998-06-01T00:00:00.000000000',\n",
       "       '1998-07-01T00:00:00.000000000', '1998-08-01T00:00:00.000000000',\n",
       "       '1998-09-01T00:00:00.000000000', '1998-10-01T00:00:00.000000000',\n",
       "       '1998-11-01T00:00:00.000000000', '1998-12-01T00:00:00.000000000',\n",
       "       '1999-01-01T00:00:00.000000000', '1999-02-01T00:00:00.000000000',\n",
       "       '1999-03-01T00:00:00.000000000', '1999-04-01T00:00:00.000000000',\n",
       "       '1999-05-01T00:00:00.000000000', '1999-06-01T00:00:00.000000000',\n",
       "       '1999-07-01T00:00:00.000000000', '1999-08-01T00:00:00.000000000',\n",
       "       '1999-09-01T00:00:00.000000000', '1999-10-01T00:00:00.000000000',\n",
       "       '1999-11-01T00:00:00.000000000', '1999-12-01T00:00:00.000000000',\n",
       "       '2000-01-01T00:00:00.000000000', '2000-02-01T00:00:00.000000000',\n",
       "       '2000-03-01T00:00:00.000000000', '2000-04-01T00:00:00.000000000',\n",
       "       '2000-05-01T00:00:00.000000000', '2000-06-01T00:00:00.000000000',\n",
       "       '2000-07-01T00:00:00.000000000', '2000-08-01T00:00:00.000000000',\n",
       "       '2000-09-01T00:00:00.000000000', '2000-10-01T00:00:00.000000000',\n",
       "       '2000-11-01T00:00:00.000000000', '2000-12-01T00:00:00.000000000',\n",
       "       '2001-01-01T00:00:00.000000000', '2001-02-01T00:00:00.000000000',\n",
       "       '2001-03-01T00:00:00.000000000', '2001-04-01T00:00:00.000000000',\n",
       "       '2001-05-01T00:00:00.000000000', '2001-06-01T00:00:00.000000000',\n",
       "       '2001-07-01T00:00:00.000000000', '2001-08-01T00:00:00.000000000',\n",
       "       '2001-09-01T00:00:00.000000000', '2001-10-01T00:00:00.000000000',\n",
       "       '2001-11-01T00:00:00.000000000', '2001-12-01T00:00:00.000000000',\n",
       "       '2002-01-01T00:00:00.000000000', '2002-02-01T00:00:00.000000000',\n",
       "       '2002-03-01T00:00:00.000000000', '2002-04-01T00:00:00.000000000',\n",
       "       '2002-05-01T00:00:00.000000000', '2002-06-01T00:00:00.000000000',\n",
       "       '2002-07-01T00:00:00.000000000', '2002-08-01T00:00:00.000000000',\n",
       "       '2002-09-01T00:00:00.000000000', '2002-10-01T00:00:00.000000000',\n",
       "       '2002-11-01T00:00:00.000000000', '2002-12-01T00:00:00.000000000',\n",
       "       '2003-01-01T00:00:00.000000000', '2003-02-01T00:00:00.000000000',\n",
       "       '2003-03-01T00:00:00.000000000', '2003-04-01T00:00:00.000000000',\n",
       "       '2003-05-01T00:00:00.000000000', '2003-06-01T00:00:00.000000000',\n",
       "       '2003-07-01T00:00:00.000000000', '2003-08-01T00:00:00.000000000',\n",
       "       '2003-09-01T00:00:00.000000000', '2003-10-01T00:00:00.000000000',\n",
       "       '2003-11-01T00:00:00.000000000', '2003-12-01T00:00:00.000000000',\n",
       "       '2004-01-01T00:00:00.000000000', '2004-02-01T00:00:00.000000000',\n",
       "       '2004-03-01T00:00:00.000000000', '2004-04-01T00:00:00.000000000',\n",
       "       '2004-05-01T00:00:00.000000000', '2004-06-01T00:00:00.000000000',\n",
       "       '2004-07-01T00:00:00.000000000', '2004-08-01T00:00:00.000000000',\n",
       "       '2004-09-01T00:00:00.000000000', '2004-10-01T00:00:00.000000000',\n",
       "       '2004-11-01T00:00:00.000000000', '2004-12-01T00:00:00.000000000',\n",
       "       '2005-01-01T00:00:00.000000000', '2005-02-01T00:00:00.000000000',\n",
       "       '2005-03-01T00:00:00.000000000', '2005-04-01T00:00:00.000000000',\n",
       "       '2005-05-01T00:00:00.000000000', '2005-06-01T00:00:00.000000000',\n",
       "       '2005-07-01T00:00:00.000000000', '2005-08-01T00:00:00.000000000',\n",
       "       '2005-09-01T00:00:00.000000000', '2005-10-01T00:00:00.000000000',\n",
       "       '2005-11-01T00:00:00.000000000', '2005-12-01T00:00:00.000000000',\n",
       "       '2006-01-01T00:00:00.000000000', '2006-02-01T00:00:00.000000000',\n",
       "       '2006-03-01T00:00:00.000000000', '2006-04-01T00:00:00.000000000',\n",
       "       '2006-05-01T00:00:00.000000000', '2006-06-01T00:00:00.000000000',\n",
       "       '2006-07-01T00:00:00.000000000', '2006-08-01T00:00:00.000000000',\n",
       "       '2006-09-01T00:00:00.000000000', '2006-10-01T00:00:00.000000000',\n",
       "       '2006-11-01T00:00:00.000000000', '2006-12-01T00:00:00.000000000',\n",
       "       '2007-01-01T00:00:00.000000000', '2007-02-01T00:00:00.000000000',\n",
       "       '2007-03-01T00:00:00.000000000', '2007-04-01T00:00:00.000000000',\n",
       "       '2007-05-01T00:00:00.000000000', '2007-06-01T00:00:00.000000000',\n",
       "       '2007-07-01T00:00:00.000000000', '2007-08-01T00:00:00.000000000',\n",
       "       '2007-09-01T00:00:00.000000000', '2007-10-01T00:00:00.000000000',\n",
       "       '2007-11-01T00:00:00.000000000', '2007-12-01T00:00:00.000000000',\n",
       "       '2008-01-01T00:00:00.000000000', '2008-02-01T00:00:00.000000000',\n",
       "       '2008-03-01T00:00:00.000000000', '2008-04-01T00:00:00.000000000',\n",
       "       '2008-05-01T00:00:00.000000000', '2008-06-01T00:00:00.000000000',\n",
       "       '2008-07-01T00:00:00.000000000', '2008-08-01T00:00:00.000000000',\n",
       "       '2008-09-01T00:00:00.000000000', '2008-10-01T00:00:00.000000000',\n",
       "       '2008-11-01T00:00:00.000000000', '2008-12-01T00:00:00.000000000',\n",
       "       '2009-01-01T00:00:00.000000000', '2009-02-01T00:00:00.000000000',\n",
       "       '2009-03-01T00:00:00.000000000', '2009-04-01T00:00:00.000000000',\n",
       "       '2009-05-01T00:00:00.000000000', '2009-06-01T00:00:00.000000000',\n",
       "       '2009-07-01T00:00:00.000000000', '2009-08-01T00:00:00.000000000',\n",
       "       '2009-09-01T00:00:00.000000000', '2009-10-01T00:00:00.000000000',\n",
       "       '2009-11-01T00:00:00.000000000', '2009-12-01T00:00:00.000000000',\n",
       "       '2010-01-01T00:00:00.000000000', '2010-02-01T00:00:00.000000000',\n",
       "       '2010-03-01T00:00:00.000000000', '2010-04-01T00:00:00.000000000',\n",
       "       '2010-05-01T00:00:00.000000000', '2010-06-01T00:00:00.000000000',\n",
       "       '2010-07-01T00:00:00.000000000', '2010-08-01T00:00:00.000000000',\n",
       "       '2010-09-01T00:00:00.000000000', '2010-10-01T00:00:00.000000000',\n",
       "       '2010-11-01T00:00:00.000000000', '2010-12-01T00:00:00.000000000',\n",
       "       '2011-01-01T00:00:00.000000000', '2011-02-01T00:00:00.000000000',\n",
       "       '2011-03-01T00:00:00.000000000', '2011-04-01T00:00:00.000000000',\n",
       "       '2011-05-01T00:00:00.000000000', '2011-06-01T00:00:00.000000000',\n",
       "       '2011-07-01T00:00:00.000000000', '2011-08-01T00:00:00.000000000',\n",
       "       '2011-09-01T00:00:00.000000000', '2011-10-01T00:00:00.000000000',\n",
       "       '2011-11-01T00:00:00.000000000', '2011-12-01T00:00:00.000000000',\n",
       "       '2012-01-01T00:00:00.000000000', '2012-02-01T00:00:00.000000000',\n",
       "       '2012-03-01T00:00:00.000000000', '2012-04-01T00:00:00.000000000',\n",
       "       '2012-05-01T00:00:00.000000000', '2012-06-01T00:00:00.000000000',\n",
       "       '2012-07-01T00:00:00.000000000', '2012-08-01T00:00:00.000000000',\n",
       "       '2012-09-01T00:00:00.000000000', '2012-10-01T00:00:00.000000000',\n",
       "       '2012-11-01T00:00:00.000000000', '2012-12-01T00:00:00.000000000',\n",
       "       '2013-01-01T00:00:00.000000000', '2013-02-01T00:00:00.000000000',\n",
       "       '2013-03-01T00:00:00.000000000', '2013-04-01T00:00:00.000000000',\n",
       "       '2013-05-01T00:00:00.000000000', '2013-06-01T00:00:00.000000000',\n",
       "       '2013-07-01T00:00:00.000000000', '2013-08-01T00:00:00.000000000',\n",
       "       '2013-09-01T00:00:00.000000000', '2013-10-01T00:00:00.000000000',\n",
       "       '2013-11-01T00:00:00.000000000', '2013-12-01T00:00:00.000000000',\n",
       "       '2014-01-01T00:00:00.000000000', '2014-02-01T00:00:00.000000000',\n",
       "       '2014-03-01T00:00:00.000000000', '2014-04-01T00:00:00.000000000',\n",
       "       '2014-05-01T00:00:00.000000000', '2014-06-01T00:00:00.000000000',\n",
       "       '2014-07-01T00:00:00.000000000', '2014-08-01T00:00:00.000000000',\n",
       "       '2014-09-01T00:00:00.000000000', '2014-10-01T00:00:00.000000000',\n",
       "       '2014-11-01T00:00:00.000000000', '2014-12-01T00:00:00.000000000',\n",
       "       '2015-01-01T00:00:00.000000000', '2015-02-01T00:00:00.000000000',\n",
       "       '2015-03-01T00:00:00.000000000', '2015-04-01T00:00:00.000000000',\n",
       "       '2015-05-01T00:00:00.000000000', '2015-06-01T00:00:00.000000000',\n",
       "       '2015-07-01T00:00:00.000000000', '2015-08-01T00:00:00.000000000',\n",
       "       '2015-09-01T00:00:00.000000000', '2015-10-01T00:00:00.000000000',\n",
       "       '2015-11-01T00:00:00.000000000', '2015-12-01T00:00:00.000000000',\n",
       "       '2016-01-01T00:00:00.000000000', '2016-02-01T00:00:00.000000000',\n",
       "       '2016-03-01T00:00:00.000000000', '2016-04-01T00:00:00.000000000',\n",
       "       '2016-05-01T00:00:00.000000000', '2016-06-01T00:00:00.000000000',\n",
       "       '2016-07-01T00:00:00.000000000', '2016-08-01T00:00:00.000000000',\n",
       "       '2016-09-01T00:00:00.000000000', '2016-10-01T00:00:00.000000000',\n",
       "       '2016-11-01T00:00:00.000000000', '2016-12-01T00:00:00.000000000',\n",
       "       '2017-01-01T00:00:00.000000000', '2017-02-01T00:00:00.000000000',\n",
       "       '2017-03-01T00:00:00.000000000', '2017-04-01T00:00:00.000000000',\n",
       "       '2017-05-01T00:00:00.000000000', '2017-06-01T00:00:00.000000000',\n",
       "       '2017-07-01T00:00:00.000000000', '2017-08-01T00:00:00.000000000',\n",
       "       '2017-09-01T00:00:00.000000000', '2017-10-01T00:00:00.000000000',\n",
       "       '2017-11-01T00:00:00.000000000', '2017-12-01T00:00:00.000000000',\n",
       "       '2018-01-01T00:00:00.000000000'], dtype='datetime64[ns]')\n",
       "Coordinates:\n",
       "  * time     (time) datetime64[ns] 1979-01-01 1979-02-01 1979-03-01 ...\n",
       "Attributes:\n",
       "    long_name: Time\n",
       "    delta_t: 0000-01-00 00:00:00\n",
       "    avg_period: 0000-01-00 00:00:00\n",
       "    standard_name: time\n",
       "    axis: T\n",
       "    actual_range: [ 65378.  79623.]"
      ]
     },
     "execution_count": 60,
     "metadata": {},
     "output_type": "execute_result"
    }
   ],
   "source": [
    "precip.time"
   ]
  },
  {
   "cell_type": "code",
   "execution_count": 28,
   "metadata": {},
   "outputs": [
    {
     "data": {
      "text/plain": [
       "468"
      ]
     },
     "execution_count": 28,
     "metadata": {},
     "output_type": "execute_result"
    }
   ],
   "source": [
    "precip.precip.isel(time=slice(0,-1)).values.shape[0]"
   ]
  },
  {
   "cell_type": "code",
   "execution_count": 323,
   "metadata": {},
   "outputs": [
    {
     "data": {
      "text/plain": [
       "360"
      ]
     },
     "execution_count": 323,
     "metadata": {},
     "output_type": "execute_result"
    }
   ],
   "source": [
    "len(evap.lon)"
   ]
  },
  {
   "cell_type": "code",
   "execution_count": 325,
   "metadata": {},
   "outputs": [
    {
     "data": {
      "text/plain": [
       "144"
      ]
     },
     "execution_count": 325,
     "metadata": {},
     "output_type": "execute_result"
    }
   ],
   "source": [
    "len(precip.lon)"
   ]
  },
  {
   "cell_type": "code",
   "execution_count": 326,
   "metadata": {},
   "outputs": [
    {
     "data": {
      "text/plain": [
       "<xarray.DataArray 'lon' ()>\n",
       "array(180.5, dtype=float32)\n",
       "Coordinates:\n",
       "    lon      float32 180.5\n",
       "Attributes:\n",
       "    long_name: longitude\n",
       "    units: degrees\n",
       "    range: 0.5 to 359.5"
      ]
     },
     "execution_count": 326,
     "metadata": {},
     "output_type": "execute_result"
    }
   ],
   "source": [
    "evap.lon[180]"
   ]
  },
  {
   "cell_type": "code",
   "execution_count": 332,
   "metadata": {},
   "outputs": [
    {
     "data": {
      "text/plain": [
       "72"
      ]
     },
     "execution_count": 332,
     "metadata": {},
     "output_type": "execute_result"
    }
   ],
   "source": [
    "np.asscalar(np.argmin(np.abs(precip.lon - 180.5) ))"
   ]
  },
  {
   "cell_type": "code",
   "execution_count": 333,
   "metadata": {},
   "outputs": [
    {
     "data": {
      "text/plain": [
       "<xarray.DataArray 'lon' (lon: 71)>\n",
       "array([ 181.25,  183.75,  186.25,  188.75,  191.25,  193.75,  196.25,\n",
       "        198.75,  201.25,  203.75,  206.25,  208.75,  211.25,  213.75,\n",
       "        216.25,  218.75,  221.25,  223.75,  226.25,  228.75,  231.25,\n",
       "        233.75,  236.25,  238.75,  241.25,  243.75,  246.25,  248.75,\n",
       "        251.25,  253.75,  256.25,  258.75,  261.25,  263.75,  266.25,\n",
       "        268.75,  271.25,  273.75,  276.25,  278.75,  281.25,  283.75,\n",
       "        286.25,  288.75,  291.25,  293.75,  296.25,  298.75,  301.25,\n",
       "        303.75,  306.25,  308.75,  311.25,  313.75,  316.25,  318.75,\n",
       "        321.25,  323.75,  326.25,  328.75,  331.25,  333.75,  336.25,\n",
       "        338.75,  341.25,  343.75,  346.25,  348.75,  351.25,  353.75,\n",
       "        356.25], dtype=float32)\n",
       "Coordinates:\n",
       "  * lon      (lon) float32 181.25 183.75 186.25 188.75 191.25 193.75 196.25 ...\n",
       "Attributes:\n",
       "    units: degrees_east\n",
       "    long_name: Longitude\n",
       "    actual_range: [   1.25  358.75]\n",
       "    standard_name: longitude\n",
       "    axis: X"
      ]
     },
     "execution_count": 333,
     "metadata": {},
     "output_type": "execute_result"
    }
   ],
   "source": [
    "precip.lon[72 : -1]"
   ]
  },
  {
   "cell_type": "code",
   "execution_count": 340,
   "metadata": {
    "collapsed": true
   },
   "outputs": [],
   "source": [
    "def find_lonlat_indices_evap(evap_year, lon, lat):\n",
    "    if(lon >=0 & lon <= 180):\n",
    "        longrid = evap_year.lon.values\n",
    "    else:\n",
    "        longrid = evap_year.lon.values\n",
    "        longrid[180:360] = evap_year.lon.values[180:360] - 360\n",
    "    \n",
    "    return np.asscalar(np.argmin(np.abs(longrid - lon))), np.asscalar(np.argmin(np.abs(evap_year.lat - lat)))\n",
    "\n",
    "def find_lonlat_indices_precip(precip, time, lon, lat):\n",
    "    if(lon >=0 & lon <= 180):\n",
    "        longrid = precip.lon.values\n",
    "    else:\n",
    "        longrid = precip.lon.values\n",
    "        mid_ind = np.asscalar(np.argmin(np.abs(precip.lon - 180.5) ))\n",
    "        longrid[mid_ind : -1] = precip.lon.values[mid_ind:-1] - 360\n",
    "    time_ind = np.asscalar(np.argmin(np.abs(precip.time - time )))\n",
    "    return time_ind, np.asscalar(np.argmin(np.abs(longrid - lon))), np.asscalar(np.argmin(np.abs(precip.lat - lat)))"
   ]
  },
  {
   "cell_type": "code",
   "execution_count": 107,
   "metadata": {},
   "outputs": [
    {
     "data": {
      "text/plain": [
       "(159, 9)"
      ]
     },
     "execution_count": 107,
     "metadata": {},
     "output_type": "execute_result"
    }
   ],
   "source": [
    "find_lonlat_indices_evap(evap[0], 160, -80)"
   ]
  },
  {
   "cell_type": "markdown",
   "metadata": {},
   "source": [
    "#### Evaporation is in cm/yr\n",
    "#### Precip is in mm/yr"
   ]
  },
  {
   "cell_type": "code",
   "execution_count": null,
   "metadata": {
    "collapsed": true
   },
   "outputs": [],
   "source": [
    "    for i in range(12):\n",
    "        E_mon_mean[i] = E[i].mean()\n",
    "        P_mon_mean[i] = P[i].mean()\n",
    "    plt.plot(E_mon_mean - P_mon_mean, np.arange(12))\n",
    "    plt.show()"
   ]
  },
  {
   "cell_type": "code",
   "execution_count": 321,
   "metadata": {},
   "outputs": [
    {
     "data": {
      "text/plain": [
       "31"
      ]
     },
     "execution_count": 321,
     "metadata": {},
     "output_type": "execute_result"
    }
   ],
   "source": [
    "from calendar import monthrange\n",
    "monthrange(2012, 1)[1]"
   ]
  },
  {
   "cell_type": "code",
   "execution_count": 335,
   "metadata": {
    "collapsed": true
   },
   "outputs": [],
   "source": [
    "def freshwater_flux_compute(evap_total, precip, year, lonmin, lonmax, latmin, latmax, wd=7, ht=4):\n",
    "    from calendar import monthrange\n",
    "    \n",
    "    evap = evap_total[year - evap_start_year]\n",
    "    elonminind , elatminind = find_lonlat_indices_evap(evap, lonmin, latmin)\n",
    "    elonmaxind, elatmaxind = find_lonlat_indices_evap(evap, lonmax, latmax)\n",
    "    \n",
    "    ptimeminind, plonminind, platminind = find_lonlat_indices_precip(precip, np.datetime64(str(year)+\"-01-01\"), \n",
    "                                                                     lonmin, latmin)\n",
    "    ptimemaxind, plonmaxind, platmaxind = find_lonlat_indices_precip(precip, np.datetime64(str(year)+\"-12-01\"), \n",
    "                                                                     lonmax, latmax)\n",
    "    print(elonminind, elonmaxind, plonminind, plonmaxind)\n",
    "    E = evap.evapr.isel(lon=slice(elonminind, elonmaxind), lat=slice(elatminind, elatmaxind)).values*10\n",
    "    E_err = evap.err.isel(lon=slice(elonminind, elonmaxind), lat=slice(elatminind, elatmaxind)).values*10\n",
    "    \n",
    "    P = precip.precip.isel(time=slice(ptimeminind, ptimemaxind+1), lon=slice(plonminind, plonmaxind), \n",
    "                          lat=slice(platminind, platmaxind)).values\n",
    "    P_err = precip_error.precip.isel(time=slice(ptimeminind, ptimemaxind+1), lon=slice(plonminind, plonmaxind), \n",
    "                          lat=slice(platminind, platmaxind)).values\n",
    "    \n",
    "    E_mon_mean, P_mon_mean = np.zeros(12), np.zeros(12)\n",
    "    E_mon_mean_err, P_mon_mean_err = np.zeros(12), np.zeros(12)\n",
    "    \n",
    "    for i in range(12):\n",
    "        E_mon_mean[i] = np.nanmean(E[i]) * float(monthrange(year, i+1)[1]) / 365.25 # to convert cm/yr to mm/month\n",
    "        E_mon_mean_err[i] = np.nanmean(E_err[i]) * float(monthrange(year, i+1)[1]) / 365.25 # to convert cm/yr to mm/month\n",
    "        \n",
    "        P_mon_mean[i] = np.nanmean(P[i]) * float(monthrange(year, i+1)[1])\n",
    "        P_mon_mean_err[i] = np.nanmean(P_err[i]) * float(monthrange(year, i+1)[1])\n",
    "        \n",
    "    E_mon_mean[np.isnan(E_mon_mean)] = 0.0\n",
    "    E_mon_mean_err[np.isnan(E_mon_mean_err)] = 0.0\n",
    "    \n",
    "    P_mon_mean[np.isnan(P_mon_mean)] = 0.0\n",
    "    P_mon_mean_err[np.isnan(P_mon_mean_err)] = 0.0\n",
    "    \n",
    "    print(E_mon_mean, \"\\n\\n\", P_mon_mean) \n",
    "    \n",
    "    fig, ax = plt.subplots(figsize=(wd, ht))\n",
    "    ax.errorbar(np.arange(1,13,1), E_mon_mean - P_mon_mean, yerr=(E_mon_mean_err+P_mon_mean_err), capsize=3, fmt='o', \n",
    "                markersize=5)\n",
    "    ax.set_xticks(np.arange(1,13,1))\n",
    "    ax.set_xticklabels(month_names)\n",
    "    plt.show()\n",
    "    return np.nansum(E_mon_mean) - np.nansum(P_mon_mean), np.nansum(E_mon_mean), np.nansum(P_mon_mean)"
   ]
  },
  {
   "cell_type": "code",
   "execution_count": 360,
   "metadata": {
    "collapsed": true
   },
   "outputs": [],
   "source": [
    "a = np.zeros(5)"
   ]
  },
  {
   "cell_type": "code",
   "execution_count": 362,
   "metadata": {},
   "outputs": [
    {
     "name": "stdout",
     "output_type": "stream",
     "text": [
      "159 171 63 68\n",
      "[ 29.52380952  55.28450833  80.79945243   0.           0.           0.           0.\n",
      "   0.           0.           0.           0.          29.12699894] \n",
      "\n",
      " [ 33.31284725  29.76464451  23.6126107   15.23978933   6.99689883\n",
      "   6.51847465   7.68658788  12.34725774  14.02720298  10.88683628\n",
      "   6.52766204   8.97267878]\n"
     ]
    },
    {
     "name": "stderr",
     "output_type": "stream",
     "text": [
      "/home/km/anaconda2/envs/py35new/lib/python3.5/site-packages/ipykernel_launcher.py:25: RuntimeWarning: Mean of empty slice\n",
      "/home/km/anaconda2/envs/py35new/lib/python3.5/site-packages/ipykernel_launcher.py:26: RuntimeWarning: Mean of empty slice\n"
     ]
    },
    {
     "data": {
      "image/png": "[encoded data removed]",
      "text/plain": [
       "<matplotlib.figure.Figure at 0x7f2b5870e7b8>"
      ]
     },
     "metadata": {},
     "output_type": "display_data"
    }
   ],
   "source": [
    "a[0],_ ,_ = freshwater_flux_compute(evap_total, precip, 2010, 160, 172, -80, -72)"
   ]
  },
  {
   "cell_type": "code",
   "execution_count": 363,
   "metadata": {},
   "outputs": [
    {
     "data": {
      "text/plain": [
       "18.841278260247179"
      ]
     },
     "execution_count": 363,
     "metadata": {},
     "output_type": "execute_result"
    }
   ],
   "source": [
    "a[0]"
   ]
  },
  {
   "cell_type": "code",
   "execution_count": 278,
   "metadata": {},
   "outputs": [
    {
     "data": {
      "text/plain": [
       "<xarray.DataArray 'lon' ()>\n",
       "array(171.25, dtype=float32)\n",
       "Coordinates:\n",
       "    lon      float32 171.25\n",
       "Attributes:\n",
       "    units: degrees_east\n",
       "    long_name: Longitude\n",
       "    actual_range: [   1.25  358.75]\n",
       "    standard_name: longitude\n",
       "    axis: X"
      ]
     },
     "execution_count": 278,
     "metadata": {},
     "output_type": "execute_result"
    }
   ],
   "source": [
    "precip.lon[68]"
   ]
  },
  {
   "cell_type": "code",
   "execution_count": 414,
   "metadata": {},
   "outputs": [
    {
     "name": "stdout",
     "output_type": "stream",
     "text": [
      "64 71 25 28\n",
      "[ 140.98073726  116.81423682  109.67943678  108.64124377  119.87394153\n",
      "  147.69551188  134.50004889  122.28980151  103.41683778  102.48581207\n",
      "  112.73687298  140.19020241] \n",
      "\n",
      " [  22.1422872     5.41855643   23.32538713   57.86885574  172.23982315\n",
      "  131.29219063   86.40239654  124.36753702   65.96346548  162.12158181\n",
      "  123.00920308   85.91658918]\n"
     ]
    },
    {
     "data": {
      "image/png": "[encoded data removed]",
      "text/plain": [
       "<matplotlib.figure.Figure at 0x7f2b589cf320>"
      ]
     },
     "metadata": {},
     "output_type": "display_data"
    },
    {
     "data": {
      "text/plain": [
       "(399.23681029788168, 1459.3046836804538, 1060.0678733825721)"
      ]
     },
     "execution_count": 414,
     "metadata": {},
     "output_type": "execute_result"
    }
   ],
   "source": [
    "freshwater_flux_compute(evap_total, precip, 2011, 65, 72, 0, 20)"
   ]
  },
  {
   "cell_type": "code",
   "execution_count": 338,
   "metadata": {},
   "outputs": [
    {
     "name": "stdout",
     "output_type": "stream",
     "text": [
      "159 171 63 68\n",
      "[ 22.27454559  33.77047684  53.3853525    0.           0.           0.           0.\n",
      "   0.           0.           0.          43.20328542  18.00164271] \n",
      "\n",
      " [  8.48293475  22.65322299  19.87335483  12.34718457  35.3941864\n",
      "  12.43333865  15.18492905  31.11863043  16.84800245  17.46546207\n",
      "   9.43056143  15.78096317]\n"
     ]
    },
    {
     "name": "stderr",
     "output_type": "stream",
     "text": [
      "/home/km/anaconda2/envs/py35new/lib/python3.5/site-packages/ipykernel_launcher.py:25: RuntimeWarning: Mean of empty slice\n",
      "/home/km/anaconda2/envs/py35new/lib/python3.5/site-packages/ipykernel_launcher.py:26: RuntimeWarning: Mean of empty slice\n"
     ]
    },
    {
     "data": {
      "image/png": "[encoded data removed]",
      "text/plain": [
       "<matplotlib.figure.Figure at 0x7f2b58c53198>"
      ]
     },
     "metadata": {},
     "output_type": "display_data"
    },
    {
     "data": {
      "text/plain": [
       "(-46.377467731043396, 170.63530306487186, 217.01277079591526)"
      ]
     },
     "execution_count": 338,
     "metadata": {},
     "output_type": "execute_result"
    }
   ],
   "source": [
    "freshwater_flux_compute(evap_total, precip, 2012, 160, 172, -80, -72)"
   ]
  },
  {
   "cell_type": "code",
   "execution_count": 339,
   "metadata": {},
   "outputs": [
    {
     "name": "stdout",
     "output_type": "stream",
     "text": [
      "159 171 63 68\n",
      "[ 34.98628099  50.13552361   0.           0.           0.           0.           0.\n",
      "   0.           0.           0.           0.          17.24626968] \n",
      "\n",
      " [ 19.06677214  30.41659991  21.33631271   9.67543745  27.18782745\n",
      "  13.0820782   12.93543868  40.06263179  16.26553514  38.07299192\n",
      "   6.65040784   4.85092015]\n"
     ]
    },
    {
     "name": "stderr",
     "output_type": "stream",
     "text": [
      "/home/km/anaconda2/envs/py35new/lib/python3.5/site-packages/ipykernel_launcher.py:25: RuntimeWarning: Mean of empty slice\n",
      "/home/km/anaconda2/envs/py35new/lib/python3.5/site-packages/ipykernel_launcher.py:26: RuntimeWarning: Mean of empty slice\n"
     ]
    },
    {
     "data": {
      "image/png": "[encoded data removed]",
      "text/plain": [
       "<matplotlib.figure.Figure at 0x7f2b58c710b8>"
      ]
     },
     "metadata": {},
     "output_type": "display_data"
    },
    {
     "data": {
      "text/plain": [
       "(-137.2348790851988, 102.36807427908221, 239.60295336428101)"
      ]
     },
     "execution_count": 339,
     "metadata": {},
     "output_type": "execute_result"
    }
   ],
   "source": [
    "freshwater_flux_compute(evap_total, precip, 2014, 160, 172, -80, -72)"
   ]
  },
  {
   "cell_type": "code",
   "execution_count": 341,
   "metadata": {},
   "outputs": [
    {
     "name": "stdout",
     "output_type": "stream",
     "text": [
      "313 339 125 135\n",
      "[  8.12550884  20.01518263   0.           0.           0.           0.           0.\n",
      "   0.           0.           0.           0.          15.56011864] \n",
      "\n",
      " [ 23.76651835  13.78503882  14.46429414   5.17665442   5.02897753\n",
      "  14.74105462  27.41065078  13.70275673  43.88724925  34.84254701\n",
      "  16.38855458  23.92844681]\n"
     ]
    },
    {
     "name": "stderr",
     "output_type": "stream",
     "text": [
      "/home/km/anaconda2/envs/py35new/lib/python3.5/site-packages/ipykernel_launcher.py:25: RuntimeWarning: Mean of empty slice\n",
      "/home/km/anaconda2/envs/py35new/lib/python3.5/site-packages/ipykernel_launcher.py:26: RuntimeWarning: Mean of empty slice\n"
     ]
    },
    {
     "data": {
      "image/png": "[encoded data removed]",
      "text/plain": [
       "<matplotlib.figure.Figure at 0x7f2b58bc89e8>"
      ]
     },
     "metadata": {},
     "output_type": "display_data"
    },
    {
     "data": {
      "text/plain": [
       "(-193.42193293210175, 43.700810111271579, 237.12274304337333)"
      ]
     },
     "execution_count": 341,
     "metadata": {},
     "output_type": "execute_result"
    }
   ],
   "source": [
    "freshwater_flux_compute(evap_total, precip, 2007, -46, -20, -80, -72)"
   ]
  },
  {
   "cell_type": "markdown",
   "metadata": {},
   "source": [
    "# Sea Ice mass \n",
    "data obtained from NASA's Global Modeling and Assimilation Office\n",
    "The data product is called: GEOS-S2S1\n",
    "Sea-ice component is an assimilated product from MOM ocean model and available observations \n",
    "Ref: https://gmao.gsfc.nasa.gov/products/climateforecasts/GEOS5/DESC/index.php"
   ]
  },
  {
   "cell_type": "code",
   "execution_count": 2,
   "metadata": {
    "collapsed": true
   },
   "outputs": [],
   "source": [
    "seaice = xr.open_dataset(\"/media/data/Datasets/SeaIce/ocn_ana_2D_ll.nc\")"
   ]
  },
  {
   "cell_type": "code",
   "execution_count": 7,
   "metadata": {},
   "outputs": [
    {
     "data": {
      "text/plain": [
       "<xarray.DataArray 'sim' (time: 293, lat: 181, lon: 360)>\n",
       "[19091880 values with dtype=float64]\n",
       "Coordinates:\n",
       "  * time     (time) datetime64[ns] 1993-01-01T12:00:00 1993-02-01T12:00:00 ...\n",
       "  * lat      (lat) float64 -90.0 -89.0 -88.0 -87.0 -86.0 -85.0 -84.0 -83.0 ...\n",
       "  * lon      (lon) float64 -180.0 -179.0 -178.0 -177.0 -176.0 -175.0 -174.0 ...\n",
       "Attributes:\n",
       "    long_name: frozen_water_mass\n",
       "    units: kg m-2\n",
       "    fmissing_value: 1e+15\n",
       "    vmin: -1e+15\n",
       "    vmax: 1e+15"
      ]
     },
     "execution_count": 7,
     "metadata": {},
     "output_type": "execute_result"
    }
   ],
   "source": [
    "seaice.sim"
   ]
  },
  {
   "cell_type": "code",
   "execution_count": 51,
   "metadata": {
    "collapsed": true
   },
   "outputs": [],
   "source": [
    "monthmask = pd.to_datetime( pd.Series(seaice.time)).dt.month == 1"
   ]
  },
  {
   "cell_type": "code",
   "execution_count": 53,
   "metadata": {},
   "outputs": [
    {
     "data": {
      "text/plain": [
       "<xarray.DataArray 'time' (time: 25)>\n",
       "array(['1993-01-01T12:00:00.000000000', '1994-01-01T12:00:00.000000000',\n",
       "       '1995-01-01T12:00:00.000000000', '1996-01-01T12:00:00.000000000',\n",
       "       '1997-01-01T12:00:00.000000000', '1998-01-01T12:00:00.000000000',\n",
       "       '1999-01-01T12:00:00.000000000', '2000-01-01T12:00:00.000000000',\n",
       "       '2001-01-01T12:00:00.000000000', '2002-01-01T12:00:00.000000000',\n",
       "       '2003-01-01T12:00:00.000000000', '2004-01-01T12:00:00.000000000',\n",
       "       '2005-01-01T12:00:00.000000000', '2006-01-01T12:00:00.000000000',\n",
       "       '2007-01-01T12:00:00.000000000', '2008-01-01T12:00:00.000000000',\n",
       "       '2009-01-01T12:00:00.000000000', '2010-01-01T12:00:00.000000000',\n",
       "       '2011-01-01T12:00:00.000000000', '2012-01-01T12:00:00.000000000',\n",
       "       '2013-01-01T12:00:00.000000000', '2014-01-01T12:00:00.000000000',\n",
       "       '2015-01-01T12:00:00.000000000', '2016-01-01T12:00:00.000000000',\n",
       "       '2017-01-01T12:00:00.000000000'], dtype='datetime64[ns]')\n",
       "Coordinates:\n",
       "  * time     (time) datetime64[ns] 1993-01-01T12:00:00 1994-01-01T12:00:00 ...\n",
       "Attributes:\n",
       "    long_name: time\n",
       "    time_increment: 60000\n",
       "    begin_date: 20170401\n",
       "    begin_time: 120000\n",
       "    _CoordinateAxisType: Time"
      ]
     },
     "execution_count": 53,
     "metadata": {},
     "output_type": "execute_result"
    }
   ],
   "source": [
    "seaice.sim.isel(time=monthmask).time"
   ]
  },
  {
   "cell_type": "code",
   "execution_count": 35,
   "metadata": {},
   "outputs": [
    {
     "data": {
      "text/plain": [
       "108.79753913122609"
      ]
     },
     "execution_count": 35,
     "metadata": {},
     "output_type": "execute_result"
    }
   ],
   "source": [
    "np.nanstd(seaice.sim.isel(time=slice(0,-1), lat=slice(0,20), lon=(160,170)).values)"
   ]
  },
  {
   "cell_type": "code",
   "execution_count": 3,
   "metadata": {
    "collapsed": true
   },
   "outputs": [],
   "source": [
    "def find_lonlat_indices_seaice(seaice, time, lon, lat):\n",
    "    time_ind = np.asscalar(np.argmin(np.abs(seaice.time - time )))\n",
    "    \n",
    "    return time_ind, np.asscalar(np.argmin(np.abs(seaice.lon - lon))), np.asscalar(np.argmin(np.abs(seaice.lat - lat)))"
   ]
  },
  {
   "cell_type": "code",
   "execution_count": 381,
   "metadata": {},
   "outputs": [
    {
     "data": {
      "text/plain": [
       "(212, 340, 10)"
      ]
     },
     "execution_count": 381,
     "metadata": {},
     "output_type": "execute_result"
    }
   ],
   "source": [
    "find_lonlat_indices_seaice(seaice, np.datetime64('2010-09'), 160, -80)"
   ]
  },
  {
   "cell_type": "code",
   "execution_count": 382,
   "metadata": {},
   "outputs": [
    {
     "data": {
      "text/plain": [
       "(212, 352, 18)"
      ]
     },
     "execution_count": 382,
     "metadata": {},
     "output_type": "execute_result"
    }
   ],
   "source": [
    "find_lonlat_indices_seaice(seaice, np.datetime64('2010-09'), 172, -72)"
   ]
  },
  {
   "cell_type": "code",
   "execution_count": 4,
   "metadata": {},
   "outputs": [
    {
     "data": {
      "text/plain": [
       "<xarray.DataArray 'sim' ()>\n",
       "array(2277.3662109375)"
      ]
     },
     "execution_count": 4,
     "metadata": {},
     "output_type": "execute_result"
    }
   ],
   "source": [
    "seaice.sim.isel(time=slice(0, -1), lon=slice(340, 352), lat=slice(10, 18)).max()"
   ]
  },
  {
   "cell_type": "code",
   "execution_count": 5,
   "metadata": {},
   "outputs": [
    {
     "data": {
      "text/plain": [
       "<xarray.DataArray 'sim' ()>\n",
       "array(69.57418823242188)\n",
       "Coordinates:\n",
       "    time     datetime64[ns] 2010-09-01T12:00:00"
      ]
     },
     "execution_count": 5,
     "metadata": {},
     "output_type": "execute_result"
    }
   ],
   "source": [
    "seaice.sim.isel(time=212, lon=slice(340, 352), lat=slice(10, 18)).min()"
   ]
  },
  {
   "cell_type": "code",
   "execution_count": 389,
   "metadata": {},
   "outputs": [
    {
     "data": {
      "text/plain": [
       "numpy.datetime64('2007-01')"
      ]
     },
     "execution_count": 389,
     "metadata": {},
     "output_type": "execute_result"
    }
   ],
   "source": [
    "year = 2007\n",
    "np.datetime64(str(year)+'-01')"
   ]
  },
  {
   "cell_type": "code",
   "execution_count": 12,
   "metadata": {
    "collapsed": true
   },
   "outputs": [],
   "source": [
    "def find_sim_freshwater_h(seaice, year, lonmin, lonmax, latmin, latmax, plot=False):\n",
    "    timeind, lonminind, latminind = find_lonlat_indices_seaice(seaice, np.datetime64(str(year)+'-01'), lonmin, latmin)\n",
    "    _, lonmaxind, latmaxind = find_lonlat_indices_seaice(seaice, np.datetime64(str(year)+'-01'), lonmax, latmax)\n",
    "    sim_monthly_area_average = np.zeros(12)\n",
    "    sim_monthly_area_max = np.zeros(12)\n",
    "    for i in range(12):\n",
    "        sim_monthly_area_average[i] = seaice.sim.isel(time=timeind+i, lon=slice(lonminind, lonmaxind), \n",
    "                                                      lat=slice(latminind, latmaxind)).mean()\n",
    "        sim_monthly_area_max[i] = seaice.sim.isel(time=timeind+i, lon=slice(lonminind, lonmaxind), \n",
    "                                                      lat=slice(latminind, latmaxind)).mean()\n",
    "    \n",
    "    if(plot==True):\n",
    "        plt.plot(np.arange(1,13,1), sim_monthly_area_max, 'o')\n",
    "        plt.grid()\n",
    "        plt.show()\n",
    "    minind, maxind = np.nanargmin(sim_monthly_area_average), np.nanargmax(sim_monthly_area_average)\n",
    "    \n",
    "    mass_diff = sim_monthly_area_average[maxind] - sim_monthly_area_average[minind]\n",
    "    \n",
    "    fh = mass_diff / 1030. * 1e3\n",
    "    print(mass_diff, sim_monthly_area_average[maxind], sim_monthly_area_average[minind])\n",
    "    return fh"
   ]
  },
  {
   "cell_type": "code",
   "execution_count": 14,
   "metadata": {},
   "outputs": [
    {
     "data": {
      "image/png": "[encoded data removed]",
      "text/plain": [
       "<matplotlib.figure.Figure at 0x7f11de004160>"
      ]
     },
     "metadata": {},
     "output_type": "display_data"
    },
    {
     "name": "stdout",
     "output_type": "stream",
     "text": [
      "114.579534773 114.708729907 0.129195134186\n"
     ]
    },
    {
     "data": {
      "text/plain": [
       "111.24226676950873"
      ]
     },
     "execution_count": 14,
     "metadata": {},
     "output_type": "execute_result"
    }
   ],
   "source": [
    "find_sim_freshwater_h(seaice, 2014, 160, 180, -80, -72, plot=True)"
   ]
  },
  {
   "cell_type": "code",
   "execution_count": 411,
   "metadata": {},
   "outputs": [
    {
     "data": {
      "text/plain": [
       "<xarray.Dataset>\n",
       "Dimensions:  (lat: 181, lon: 360, time: 293)\n",
       "Coordinates:\n",
       "  * time     (time) datetime64[ns] 1993-01-01T12:00:00 1993-02-01T12:00:00 ...\n",
       "  * lat      (lat) float64 -90.0 -89.0 -88.0 -87.0 -86.0 -85.0 -84.0 -83.0 ...\n",
       "  * lon      (lon) float64 -180.0 -179.0 -178.0 -177.0 -176.0 -175.0 -174.0 ...\n",
       "Data variables:\n",
       "    SS       (time, lat, lon) float64 nan nan nan nan nan nan nan nan nan ...\n",
       "    sic      (time, lat, lon) float64 nan nan nan nan nan nan nan nan nan ...\n",
       "    sim      (time, lat, lon) float64 nan nan nan nan nan nan nan nan nan ...\n",
       "    sit      (time, lat, lon) float64 nan nan nan nan nan nan nan nan nan ...\n",
       "Attributes:\n",
       "    History: Translated to CF-1.0 Conventions by Netcdf-Java CDM (CFGridWriter2)\n",
       "Original Dataset = seasonal/ocn_ana_2D_ll; Translation Date = 2018-03-21T04:05:19.781Z\n",
       "    Contact: http://www.gmao.nasa.gov\n",
       "    Title: Seasonal OCN_ANA_2D_ll\n",
       "    Conventions: CF-1.0\n",
       "    Source: http://www.gmao.nasa.gov\n",
       "    geospatial_lat_min: -90.0\n",
       "    geospatial_lat_max: 90.0\n",
       "    geospatial_lon_min: -180.0\n",
       "    geospatial_lon_max: 179.0"
      ]
     },
     "execution_count": 411,
     "metadata": {},
     "output_type": "execute_result"
    }
   ],
   "source": [
    "seaice"
   ]
  },
  {
   "cell_type": "code",
   "execution_count": null,
   "metadata": {
    "collapsed": true
   },
   "outputs": [],
   "source": [
    "area"
   ]
  }
 ],
 "metadata": {
  "kernelspec": {
   "display_name": "Python 3",
   "language": "python",
   "name": "python3"
  },
  "language_info": {
   "codemirror_mode": {
    "name": "ipython",
    "version": 3
   },
   "file_extension": ".py",
   "mimetype": "text/x-python",
   "name": "python",
   "nbconvert_exporter": "python",
   "pygments_lexer": "ipython3",
   "version": "3.5.3"
  }
 },
 "nbformat": 4,
 "nbformat_minor": 2
}
