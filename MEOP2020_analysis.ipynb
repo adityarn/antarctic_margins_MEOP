{
 "cells": [
  {
   "cell_type": "code",
   "execution_count": 1,
   "metadata": {},
   "outputs": [],
   "source": [
    "import pandas as pd\n",
    "import numpy as np\n",
    "import matplotlib.pyplot as plt\n",
    "import gsw\n",
    "import importlib\n",
    "from matplotlib.colorbar import Colorbar \n",
    "import pdb\n",
    "from matplotlib.colors import LinearSegmentedColormap\n",
    "from IPython.display import Image\n",
    "import matplotlib.colors as colors\n",
    "from scipy.interpolate import griddata\n",
    "import geopandas as gpd\n",
    "from shapely.geometry import Point\n",
    "from scipy.stats import gaussian_kde\n",
    "import xarray as xr\n",
    "import matplotlib\n",
    "import matplotlib.gridspec as gridspec \n",
    "from matplotlib.colorbar import Colorbar"
   ]
  },
  {
   "cell_type": "code",
   "execution_count": 2,
   "metadata": {},
   "outputs": [],
   "source": [
    "dfmg2018 = pd.read_csv(\"dfmg_corrected_DIST_IS_GL.csv\")\n",
    "dfgamma2018 = pd.read_csv(\"gamman.csv\", names=['PROFILE_NUMBER', 'gamman'])\n",
    "dfmg2018['gamman'] = dfgamma2018['gamman']\n",
    "del dfmg2018['Unnamed: 0']\n",
    "dfmg2018.loc[:,'JULD'] = pd.to_datetime(dfmg2018.loc[:, 'JULD'])\n",
    "dfmg2018.loc[(dfmg2018['gamman'] < 0), \"gamman\"] = np.nan"
   ]
  },
  {
   "cell_type": "code",
   "execution_count": 3,
   "metadata": {},
   "outputs": [],
   "source": [
    "dfmg2018[\"DIST_min\"] = dfmg2018.loc[:, [\"DIST_GLINE\", \"DIST_ISE\"]].min(axis=1)"
   ]
  },
  {
   "cell_type": "code",
   "execution_count": 4,
   "metadata": {},
   "outputs": [],
   "source": [
    "df2020 = pd.read_csv(\"meop2020.csv\")"
   ]
  },
  {
   "cell_type": "code",
   "execution_count": 5,
   "metadata": {},
   "outputs": [],
   "source": [
    "count = dfmg2018.PROFILE_NUMBER.max() + 1\n",
    "i = 0\n",
    "grouped = df2020.groupby(['PROFILE_NUMBER'])\n",
    "for name, group in grouped:\n",
    "    df2020.loc[group.index, 'PROFILE_NUMBER'] = count\n",
    "    #print(i, count)\n",
    "    count+=1\n",
    "    i += 1"
   ]
  },
  {
   "cell_type": "code",
   "execution_count": 6,
   "metadata": {},
   "outputs": [],
   "source": [
    "df2020[\"JULD\"] = pd.to_datetime(df2020.loc[:, 'JULD'])"
   ]
  },
  {
   "cell_type": "code",
   "execution_count": 7,
   "metadata": {},
   "outputs": [],
   "source": [
    "dfmg = pd.concat([dfmg2018, df2020], ignore_index=True, sort=False)"
   ]
  },
  {
   "cell_type": "code",
   "execution_count": 8,
   "metadata": {},
   "outputs": [
    {
     "name": "stderr",
     "output_type": "stream",
     "text": [
      "/home/aditya/anaconda3/envs/pyocean35/lib/python3.7/site-packages/pandas/core/computation/expressions.py:194: UserWarning: evaluating in Python space because the '+' operator is not supported by numexpr for the bool dtype, use '|' instead\n",
      "  op=op_str, alt_op=unsupported[op_str]\n"
     ]
    }
   ],
   "source": [
    "WSO_source = (dfmg['CTEMP'] <= -1.7 ) & (dfmg[\"PSAL_ADJUSTED\"] > 34.5)\n",
    "WSO_prod = (dfmg['CTEMP'] <= -0.8) & (dfmg['CTEMP'] >= -1.2) & (dfmg[\"PSAL_ADJUSTED\"] > 34.5)\n",
    "\n",
    "box1 = (dfmg[\"LATITUDE\"] > -80) & (dfmg[\"LATITUDE\"] < -75) & (dfmg[\"LONGITUDE\"] > -60) & (dfmg[\"LONGITUDE\"] < -40)\n",
    "box2 = (dfmg[\"LATITUDE\"] > -80) & (dfmg[\"LATITUDE\"] < -75) & (dfmg[\"LONGITUDE\"] > -40) & (dfmg[\"LONGITUDE\"] < -20)\n",
    "box3 = (dfmg[\"LATITUDE\"] > -75) & (dfmg[\"LATITUDE\"] < -70) & (dfmg[\"LONGITUDE\"] > -60) & (dfmg[\"LONGITUDE\"] < -40)\n",
    "box4 = (dfmg[\"LATITUDE\"] > -75) & (dfmg[\"LATITUDE\"] < -70) & (dfmg[\"LONGITUDE\"] > -40) & (dfmg[\"LONGITUDE\"] < -20)\n",
    "\n",
    "box5 = (dfmg[\"LATITUDE\"] > -80) & (dfmg[\"LATITUDE\"] < -75) & (dfmg[\"LONGITUDE\"] > 160) & (dfmg[\"LONGITUDE\"] < 180)\n",
    "box6 = (dfmg[\"LATITUDE\"] > -80) & (dfmg[\"LATITUDE\"] < -75) & (dfmg[\"LONGITUDE\"] > -180) & (dfmg[\"LONGITUDE\"] < -160)\n",
    "box7 = (dfmg[\"LATITUDE\"] > -75) & (dfmg[\"LATITUDE\"] < -70) & (dfmg[\"LONGITUDE\"] > 160) & (dfmg[\"LONGITUDE\"] < 180)\n",
    "box8 = (dfmg[\"LATITUDE\"] > -75) & (dfmg[\"LATITUDE\"] < -70) & (dfmg[\"LONGITUDE\"] > -180) & (dfmg[\"LONGITUDE\"] < -160)\n",
    "\n",
    "box9 = (dfmg[\"LATITUDE\"] > -70) & (dfmg[\"LATITUDE\"] < -65) & (dfmg[\"LONGITUDE\"] > 60) & (dfmg[\"LONGITUDE\"] < 70)\n",
    "box10 = (dfmg[\"LATITUDE\"] > -70) & (dfmg[\"LATITUDE\"] < -65) & (dfmg[\"LONGITUDE\"] > 70) & (dfmg[\"LONGITUDE\"] < 82)\n",
    "\n",
    "Weddell = (box1 | box2 | box3| box4)\n",
    "Ross = (box5 | box6 | box7 | box8) & (dfmg.LATITUDE < -72.5)\n",
    "Prydz = box10\n",
    "EBS = (dfmg['LONGITUDE'] > -80) & (dfmg['LONGITUDE'] < -60) #Eastern Bellingshausen Sea\n",
    "WBS = (dfmg['LONGITUDE'] > -100) & (dfmg['LONGITUDE'] < -80) # Western Bellingshausen Sea\n",
    "BS = (EBS + WBS)\n",
    "Adelie = (dfmg['LONGITUDE'] > 135) & (dfmg['LONGITUDE'] < 145) # Adelie Coast\n",
    "Knox = (dfmg['LONGITUDE'] > 101) & (dfmg['LONGITUDE'] < 112) \n",
    "PrincessMartha = (dfmg['LONGITUDE'] > -20) & (dfmg['LONGITUDE'] < 0) & (dfmg.LATITUDE <= -65)\n",
    "CDP = box9\n",
    "WPB = (dfmg[\"LATITUDE\"] > -70) & (dfmg[\"LATITUDE\"] < -65) & (dfmg[\"LONGITUDE\"] > 70) & (dfmg[\"LONGITUDE\"] < 75)\n",
    "EPB = (dfmg[\"LATITUDE\"] > -70) & (dfmg[\"LATITUDE\"] < -65) & (dfmg[\"LONGITUDE\"] > 75) & (dfmg[\"LONGITUDE\"] <= 82)\n",
    "AmundsenEast = (dfmg.LONGITUDE <= -100) & (dfmg.LONGITUDE >= -110) & (dfmg.LATITUDE <= -70)\n",
    "AmundsenWest = (dfmg.LONGITUDE <= -110) & (dfmg.LONGITUDE >= -120) & (dfmg.LATITUDE <= -70)\n",
    "Amundsen = AmundsenEast + AmundsenWest\n",
    "AS = (AmundsenEast + AmundsenWest)\n",
    "LAC = (dfmg.LONGITUDE > 82) & (dfmg.LONGITUDE <= 87) & (dfmg.LATITUDE <= -65)# Leopold and Astrid Coast\n",
    "QMC = (dfmg.LONGITUDE > 87) & (dfmg.LONGITUDE <= 96.5) & (dfmg.LATITUDE <= -65)# Wilhelm II Coast and Queen Mary Coast\n",
    "Harald = (dfmg.LONGITUDE >= 29) & (dfmg.LONGITUDE <= 37) & (dfmg.LATITUDE <= -65)# Harald Coast\n",
    "\n",
    "lowSurfSal = (dfmg['PSAL_ADJUSTED'] < 33.5) & (dfmg['DEPTH'] > -100)\n",
    "ASW = (dfmg.CTEMP > -1.5) & (dfmg.PRES_ADJUSTED < 150) & (dfmg.POT_DENSITY < 27.4)\n",
    "surfaceWaters = dfmg.PRES_ADJUSTED < 100\n",
    "\n",
    "cdw = (dfmg['PSAL_ADJUSTED'] > 34.6) & (dfmg['CTEMP'] > 0)\n",
    "maxTemp = (dfmg.groupby('PROFILE_NUMBER')['CTEMP'].transform(max) == dfmg['CTEMP'])\n",
    "gline_le_50km = dfmg['DIST_min'] <= 50\n",
    "gline_le_100km = dfmg['DIST_min'] <= 100\n",
    "gline_le_150km = dfmg['DIST_min'] <= 150\n",
    "gline_le_25km = dfmg['DIST_min'] <= 25\n",
    "gline_le_75km = dfmg['DIST_min'] <= 75\n",
    "\n",
    "sel_echodepth_3000 = dfmg.ECHODEPTH > -3000\n",
    "sel_echodepth_1000 = dfmg.ECHODEPTH > -1000\n",
    "\n",
    "mask_theta_sal_not_nan = ~(dfmg.loc[:, 'CTEMP'].isnull() + dfmg.loc[:, 'PSAL_ADJUSTED'].isnull())\n",
    "\n",
    "deepMask250 = dfmg.DEPTH <= -250\n",
    "deepMask375 = dfmg.DEPTH <= -375\n",
    "deepMask500 = dfmg.DEPTH <= -500"
   ]
  },
  {
   "cell_type": "code",
   "execution_count": 63,
   "metadata": {},
   "outputs": [],
   "source": [
    "!mkdir ./Images/MEOP2020"
   ]
  },
  {
   "cell_type": "code",
   "execution_count": 9,
   "metadata": {},
   "outputs": [],
   "source": [
    "def return_CT_mean(df, mask, var='CTEMP'):\n",
    "    CTmean = df.loc[mask, var].mean()\n",
    "    CTsd = df.loc[mask, var].std()\n",
    "    if(var == 'CTEMP'):\n",
    "        varError = 'TEMP_ADJUSTED_ERROR'\n",
    "    else:\n",
    "        varError = var+'_ERROR'\n",
    "        \n",
    "    CTerrorMean = df.loc[mask, varError].mean()\n",
    "    CTcount = df.loc[mask, var].count()\n",
    "    \n",
    "    error = np.sqrt(CTerrorMean**2 + (1.96 * CTsd / np.sqrt(CTcount))**2)\n",
    "    \n",
    "    return CTmean , error"
   ]
  },
  {
   "cell_type": "code",
   "execution_count": 30,
   "metadata": {},
   "outputs": [
    {
     "name": "stdout",
     "output_type": "stream",
     "text": [
      "0 10\n",
      "1 361\n",
      "2 787\n",
      "3 171\n"
     ]
    },
    {
     "data": {
      "image/png": "[encoded data removed]",
      "text/plain": [
       "<Figure size 504x504 with 2 Axes>"
      ]
     },
     "metadata": {
      "needs_background": "light"
     },
     "output_type": "display_data"
    }
   ],
   "source": [
    "plt.close(1)\n",
    "plt.figure(1, figsize=(7,7))\n",
    "\n",
    "ax = plt.subplot()\n",
    "\n",
    "regions = [CDP, WPB, EPB, LAC]\n",
    "names = [\"CDP\", \"WPB\", \"EPB\", \"LAC\"]\n",
    "\n",
    "dfsel_2019_Jan = (dfmg.JULD.dt.year == 2019) #& (dfmg.JULD.dt.month == 1)\n",
    "x_axis = np.arange(len(regions))\n",
    "month_sel = (dfmg.JULD.dt.month == 1) | (dfmg.JULD.dt.month == 2)\n",
    "ax_right = ax.twinx()\n",
    "\n",
    "for i in range(len(regions)):\n",
    "    regional_bottom_CTEMP_mean_2019, regional_bottom_CTEMP_error_2019  = return_CT_mean(dfmg, \n",
    "                                              (regions[i] & dfsel_2019_Jan \n",
    "                                              & deepMask250 & sel_echodepth_3000\n",
    "                                              & ~gline_le_75km), var='CTEMP')\n",
    "    regional_bottom_CTEMP_mean_longTerm, regional_bottom_CTEMP_error_longTerm = return_CT_mean(dfmg, \n",
    "                                        (regions[i] & month_sel & deepMask250 & sel_echodepth_3000\n",
    "                                              & ~gline_le_75km), var=\"CTEMP\")\n",
    "    \n",
    "    data_count_2019 = dfmg.loc[regions[i] & dfsel_2019_Jan & deepMask250 & sel_echodepth_1000\n",
    "                                              & ~gline_le_75km].CTEMP.count()\n",
    "    print(i, data_count_2019)\n",
    "    \n",
    "    ax.errorbar(x_axis[i], regional_bottom_CTEMP_mean_longTerm, yerr = regional_bottom_CTEMP_error_longTerm,\n",
    "               marker=\"o\", color=\"b\", label=\"Long term\", capsize=3)\n",
    "    ax.errorbar(x_axis[i], regional_bottom_CTEMP_mean_2019, yerr= regional_bottom_CTEMP_error_2019, \n",
    "                marker = \"x\", color=\"r\", label=\"2019\", capsize=3, )\n",
    "    \n",
    "    \n",
    "    ax_right.bar(x_axis[i], [data_count_2019], alpha=0.1, color='k')\n",
    "    #ax_right.set_yscale(\"log\")\n",
    "    if i == 0:\n",
    "        ax.legend()\n",
    "ax.set_xticks(np.arange(len(regions)))    \n",
    "ax.set_xticklabels(names)\n",
    "ax.set_ylabel(\"Conservative temperature ($^{\\circ}$C)\")\n",
    "ax_right.set_ylabel(\"Data count in 2019\")\n",
    "plt.savefig(\"./Images/MEOP2020/Jan_Feb_comparison.pdf\", dpi=300, bbox_inches=\"tight\")\n",
    "#ax.set_ylim(-2, 0)\n",
    "plt.show()"
   ]
  },
  {
   "cell_type": "code",
   "execution_count": 29,
   "metadata": {},
   "outputs": [
    {
     "name": "stdout",
     "output_type": "stream",
     "text": [
      "WPB 361 -1.4107755883973874\n",
      "EPB 787 -1.5609453557843191\n",
      "LAC 171 -1.5674607066863921\n"
     ]
    },
    {
     "data": {
      "image/png": "[encoded data removed]",
      "text/plain": [
       "<Figure size 504x504 with 2 Axes>"
      ]
     },
     "metadata": {
      "needs_background": "light"
     },
     "output_type": "display_data"
    }
   ],
   "source": [
    "plt.close(1)\n",
    "plt.figure(1, figsize=(7,7))\n",
    "\n",
    "ax = plt.subplot()\n",
    "\n",
    "regions = [WPB, EPB, LAC]\n",
    "names = [\"WPB\", \"EPB\", \"LAC\"]\n",
    "\n",
    "dfsel_2019_Jan = (dfmg.JULD.dt.year == 2019) #& (dfmg.JULD.dt.month == 1)\n",
    "x_axis = np.arange(len(regions))\n",
    "month_sel = (dfmg.JULD.dt.month == 1) | (dfmg.JULD.dt.month == 2)\n",
    "ax_right = ax.twinx()\n",
    "\n",
    "for i in range(len(regions)):\n",
    "    regional_bottom_CTEMP_mean_2019, regional_bottom_CTEMP_error_2019  = return_CT_mean(dfmg, \n",
    "                                              (regions[i] & dfsel_2019_Jan \n",
    "                                              & deepMask250 & sel_echodepth_3000\n",
    "                                              & ~gline_le_75km), var='CTEMP')\n",
    "    regional_bottom_CTEMP_mean_longTerm, regional_bottom_CTEMP_error_longTerm = return_CT_mean(dfmg, \n",
    "                                        (regions[i] & month_sel & deepMask250 & sel_echodepth_3000\n",
    "                                              & ~gline_le_75km), var=\"CTEMP\")\n",
    "    \n",
    "    data_count_2019 = dfmg.loc[regions[i] & dfsel_2019_Jan & deepMask250 & sel_echodepth_1000\n",
    "                                              & ~gline_le_75km].CTEMP.count()\n",
    "    print(names[i], data_count_2019, regional_bottom_CTEMP_mean_2019)\n",
    "    \n",
    "    ax.errorbar(x_axis[i], regional_bottom_CTEMP_mean_longTerm, yerr = regional_bottom_CTEMP_error_longTerm,\n",
    "               marker=\"o\", color=\"b\", label=\"Long term\", capsize=3, ls='')\n",
    "    ax.errorbar(x_axis[i], regional_bottom_CTEMP_mean_2019, yerr= regional_bottom_CTEMP_error_2019, \n",
    "                marker = \"x\", color=\"r\", label=\"2019\", capsize=3, ls='')\n",
    "    \n",
    "    \n",
    "    ax_right.bar(x_axis[i], [data_count_2019], alpha=0.1, color='k')\n",
    "    #ax_right.set_yscale(\"log\")\n",
    "    if i == 0:\n",
    "        handles, labels = ax.get_legend_handles_labels()\n",
    "        # remove the errorbars\n",
    "        handles = [h[0] for h in handles]\n",
    "        # use them in the legend\n",
    "        ax.legend(handles, labels, loc='upper right',numpoints=1)\n",
    "        \n",
    "ax.set_xticks(np.arange(len(regions)))    \n",
    "ax.set_xticklabels(names)\n",
    "ax.set_ylabel(\"Conservative temperature ($^{\\circ}$C)\")\n",
    "ax_right.set_ylabel(\"Data count in 2019\")\n",
    "plt.savefig(\"./Images/MEOP2020/Jan_Feb_comparison_woCDP.pdf\", dpi=300, bbox_inches=\"tight\")\n",
    "ax.set_ylim(-2, -0.5)\n",
    "plt.show()"
   ]
  },
  {
   "cell_type": "code",
   "execution_count": 18,
   "metadata": {},
   "outputs": [],
   "source": [
    "dfsel2019 = (dfmg.JULD.dt.year == 2019) & (dfmg.JULD.dt.month == 2)\n",
    "bottom_CTEMP_mean_2019, bottom_CTEMP_error_2019 = return_CT_mean(dfmg, \n",
    "                                 (dfsel2019 & LAC & deepMask250 & sel_echodepth_3000\n",
    "                                  & ~gline_le_75km), var=\"CTEMP\")"
   ]
  },
  {
   "cell_type": "code",
   "execution_count": 20,
   "metadata": {},
   "outputs": [
    {
     "name": "stdout",
     "output_type": "stream",
     "text": [
      "-1.739379964200252 0.2114368998493492\n"
     ]
    }
   ],
   "source": [
    "print(bottom_CTEMP_mean_2019, bottom_CTEMP_error_2019)"
   ]
  },
  {
   "cell_type": "code",
   "execution_count": 27,
   "metadata": {},
   "outputs": [
    {
     "data": {
      "text/plain": [
       "0.04752624731902328"
      ]
     },
     "execution_count": 27,
     "metadata": {},
     "output_type": "execute_result"
    }
   ],
   "source": [
    "dfsel = df2020.JULD.dt.year == 2019\n",
    "df2020[dfsel].CTEMP.mean()"
   ]
  },
  {
   "cell_type": "code",
   "execution_count": null,
   "metadata": {},
   "outputs": [],
   "source": []
  }
 ],
 "metadata": {
  "kernelspec": {
   "display_name": "Python 3",
   "language": "python",
   "name": "python3"
  },
  "language_info": {
   "codemirror_mode": {
    "name": "ipython",
    "version": 3
   },
   "file_extension": ".py",
   "mimetype": "text/x-python",
   "name": "python",
   "nbconvert_exporter": "python",
   "pygments_lexer": "ipython3",
   "version": "3.7.6"
  }
 },
 "nbformat": 4,
 "nbformat_minor": 4
}
